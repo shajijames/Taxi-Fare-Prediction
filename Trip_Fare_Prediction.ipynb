{
  "nbformat": 4,
  "nbformat_minor": 0,
  "metadata": {
    "colab": {
      "name": "Trip Fare Prediction.ipynb",
      "version": "0.3.2",
      "provenance": [],
      "collapsed_sections": []
    },
    "kernelspec": {
      "name": "python3",
      "display_name": "Python 3"
    }
  },
  "cells": [
    {
      "metadata": {
        "id": "ZFtKLDNoiZfg",
        "colab_type": "code",
        "colab": {}
      },
      "cell_type": "code",
      "source": [
        "import pandas as pd"
      ],
      "execution_count": 0,
      "outputs": []
    },
    {
      "metadata": {
        "id": "jBgEe6t1zQs6",
        "colab_type": "code",
        "outputId": "a68776f3-c3ba-4f41-c3be-1d9536e3de84",
        "colab": {
          "base_uri": "https://localhost:8080/",
          "height": 34
        }
      },
      "cell_type": "code",
      "source": [
        "from google.colab import drive\n",
        "drive.mount('/content/gdrive')"
      ],
      "execution_count": 0,
      "outputs": [
        {
          "output_type": "stream",
          "text": [
            "Drive already mounted at /content/gdrive; to attempt to forcibly remount, call drive.mount(\"/content/gdrive\", force_remount=True).\n"
          ],
          "name": "stdout"
        }
      ]
    },
    {
      "metadata": {
        "id": "NR6pjmZf0u88",
        "colab_type": "code",
        "outputId": "2e92833c-6345-4eaa-f040-74bebb9459b4",
        "colab": {
          "base_uri": "https://localhost:8080/",
          "height": 34
        }
      },
      "cell_type": "code",
      "source": [
        "import io\n",
        "dateparse = lambda x: pd.datetime.strptime(x, '%m/%d/%Y %H:%M')\n",
        "dataset = pd.read_csv('/content/gdrive/My Drive/Colab Notebooks/Dataset.csv',parse_dates=['pickup_datetime','dropoff_datetime'], date_parser=dateparse)\n",
        "dataset.shape"
      ],
      "execution_count": 0,
      "outputs": [
        {
          "output_type": "execute_result",
          "data": {
            "text/plain": [
              "(1048575, 18)"
            ]
          },
          "metadata": {
            "tags": []
          },
          "execution_count": 25
        }
      ]
    },
    {
      "metadata": {
        "id": "JYnfE9S-tzUV",
        "colab_type": "code",
        "outputId": "f2d841c3-dfb0-4f3d-ee21-08508cfb6057",
        "colab": {
          "base_uri": "https://localhost:8080/",
          "height": 309
        }
      },
      "cell_type": "code",
      "source": [
        "pd.set_option('display.max_columns', 500)\n",
        "pd.set_option('display.max_rows', 100)\n",
        "dataset.head()"
      ],
      "execution_count": 0,
      "outputs": [
        {
          "output_type": "execute_result",
          "data": {
            "text/html": [
              "<div>\n",
              "<style scoped>\n",
              "    .dataframe tbody tr th:only-of-type {\n",
              "        vertical-align: middle;\n",
              "    }\n",
              "\n",
              "    .dataframe tbody tr th {\n",
              "        vertical-align: top;\n",
              "    }\n",
              "\n",
              "    .dataframe thead th {\n",
              "        text-align: right;\n",
              "    }\n",
              "</style>\n",
              "<table border=\"1\" class=\"dataframe\">\n",
              "  <thead>\n",
              "    <tr style=\"text-align: right;\">\n",
              "      <th></th>\n",
              "      <th>TID</th>\n",
              "      <th>vendor_id</th>\n",
              "      <th>new_user</th>\n",
              "      <th>tolls_amount</th>\n",
              "      <th>tip_amount</th>\n",
              "      <th>mta_tax</th>\n",
              "      <th>pickup_datetime</th>\n",
              "      <th>dropoff_datetime</th>\n",
              "      <th>passenger_count</th>\n",
              "      <th>pickup_longitude</th>\n",
              "      <th>pickup_latitude</th>\n",
              "      <th>rate_code</th>\n",
              "      <th>store_and_fwd_flag</th>\n",
              "      <th>dropoff_longitude</th>\n",
              "      <th>dropoff_latitude</th>\n",
              "      <th>payment_type</th>\n",
              "      <th>surcharge</th>\n",
              "      <th>fare_amount</th>\n",
              "    </tr>\n",
              "  </thead>\n",
              "  <tbody>\n",
              "    <tr>\n",
              "      <th>0</th>\n",
              "      <td>AIX000345001</td>\n",
              "      <td>DST000401</td>\n",
              "      <td>NO</td>\n",
              "      <td>NaN</td>\n",
              "      <td>1.4</td>\n",
              "      <td>NaN</td>\n",
              "      <td>2015-04-20 04:18:00</td>\n",
              "      <td>2015-04-20 04:24:00</td>\n",
              "      <td>1.0</td>\n",
              "      <td>-74.003939</td>\n",
              "      <td>40.742894</td>\n",
              "      <td>1.0</td>\n",
              "      <td>N</td>\n",
              "      <td>-73.993369</td>\n",
              "      <td>40.734247</td>\n",
              "      <td>CRD</td>\n",
              "      <td>0.5</td>\n",
              "      <td>8.4</td>\n",
              "    </tr>\n",
              "    <tr>\n",
              "      <th>1</th>\n",
              "      <td>AIX000345002</td>\n",
              "      <td>DST000401</td>\n",
              "      <td>NO</td>\n",
              "      <td>NaN</td>\n",
              "      <td>1.0</td>\n",
              "      <td>NaN</td>\n",
              "      <td>2015-04-19 18:16:00</td>\n",
              "      <td>2015-04-19 18:22:00</td>\n",
              "      <td>3.0</td>\n",
              "      <td>-73.973864</td>\n",
              "      <td>40.752194</td>\n",
              "      <td>1.0</td>\n",
              "      <td>N</td>\n",
              "      <td>-73.958701</td>\n",
              "      <td>40.772533</td>\n",
              "      <td>CRD</td>\n",
              "      <td>0.0</td>\n",
              "      <td>8.5</td>\n",
              "    </tr>\n",
              "    <tr>\n",
              "      <th>2</th>\n",
              "      <td>AIX000345003</td>\n",
              "      <td>DST000401</td>\n",
              "      <td>NO</td>\n",
              "      <td>NaN</td>\n",
              "      <td>0.0</td>\n",
              "      <td>NaN</td>\n",
              "      <td>2015-04-06 08:04:00</td>\n",
              "      <td>2015-04-06 08:10:00</td>\n",
              "      <td>2.0</td>\n",
              "      <td>-73.954406</td>\n",
              "      <td>40.764420</td>\n",
              "      <td>1.0</td>\n",
              "      <td>N</td>\n",
              "      <td>-73.970780</td>\n",
              "      <td>40.758350</td>\n",
              "      <td>CSH</td>\n",
              "      <td>0.0</td>\n",
              "      <td>7.0</td>\n",
              "    </tr>\n",
              "    <tr>\n",
              "      <th>3</th>\n",
              "      <td>AIX000345004</td>\n",
              "      <td>DST000532</td>\n",
              "      <td>NO</td>\n",
              "      <td>NaN</td>\n",
              "      <td>1.8</td>\n",
              "      <td>NaN</td>\n",
              "      <td>2015-04-10 09:48:00</td>\n",
              "      <td>2015-04-10 10:00:00</td>\n",
              "      <td>2.0</td>\n",
              "      <td>-73.962345</td>\n",
              "      <td>40.767215</td>\n",
              "      <td>1.0</td>\n",
              "      <td>NaN</td>\n",
              "      <td>-73.975512</td>\n",
              "      <td>40.756867</td>\n",
              "      <td>CRD</td>\n",
              "      <td>0.0</td>\n",
              "      <td>11.3</td>\n",
              "    </tr>\n",
              "    <tr>\n",
              "      <th>4</th>\n",
              "      <td>AIX000345005</td>\n",
              "      <td>DST000401</td>\n",
              "      <td>NO</td>\n",
              "      <td>NaN</td>\n",
              "      <td>0.0</td>\n",
              "      <td>NaN</td>\n",
              "      <td>2015-04-15 13:12:00</td>\n",
              "      <td>2015-04-15 13:26:00</td>\n",
              "      <td>1.0</td>\n",
              "      <td>-74.004657</td>\n",
              "      <td>40.707434</td>\n",
              "      <td>1.0</td>\n",
              "      <td>N</td>\n",
              "      <td>-73.999369</td>\n",
              "      <td>40.721517</td>\n",
              "      <td>CSH</td>\n",
              "      <td>0.0</td>\n",
              "      <td>10.0</td>\n",
              "    </tr>\n",
              "  </tbody>\n",
              "</table>\n",
              "</div>"
            ],
            "text/plain": [
              "            TID  vendor_id new_user  tolls_amount  tip_amount  mta_tax  \\\n",
              "0  AIX000345001  DST000401       NO           NaN         1.4      NaN   \n",
              "1  AIX000345002  DST000401       NO           NaN         1.0      NaN   \n",
              "2  AIX000345003  DST000401       NO           NaN         0.0      NaN   \n",
              "3  AIX000345004  DST000532       NO           NaN         1.8      NaN   \n",
              "4  AIX000345005  DST000401       NO           NaN         0.0      NaN   \n",
              "\n",
              "      pickup_datetime    dropoff_datetime  passenger_count  pickup_longitude  \\\n",
              "0 2015-04-20 04:18:00 2015-04-20 04:24:00              1.0        -74.003939   \n",
              "1 2015-04-19 18:16:00 2015-04-19 18:22:00              3.0        -73.973864   \n",
              "2 2015-04-06 08:04:00 2015-04-06 08:10:00              2.0        -73.954406   \n",
              "3 2015-04-10 09:48:00 2015-04-10 10:00:00              2.0        -73.962345   \n",
              "4 2015-04-15 13:12:00 2015-04-15 13:26:00              1.0        -74.004657   \n",
              "\n",
              "   pickup_latitude  rate_code store_and_fwd_flag  dropoff_longitude  \\\n",
              "0        40.742894        1.0                  N         -73.993369   \n",
              "1        40.752194        1.0                  N         -73.958701   \n",
              "2        40.764420        1.0                  N         -73.970780   \n",
              "3        40.767215        1.0                NaN         -73.975512   \n",
              "4        40.707434        1.0                  N         -73.999369   \n",
              "\n",
              "   dropoff_latitude payment_type  surcharge  fare_amount  \n",
              "0         40.734247          CRD        0.5          8.4  \n",
              "1         40.772533          CRD        0.0          8.5  \n",
              "2         40.758350          CSH        0.0          7.0  \n",
              "3         40.756867          CRD        0.0         11.3  \n",
              "4         40.721517          CSH        0.0         10.0  "
            ]
          },
          "metadata": {
            "tags": []
          },
          "execution_count": 26
        }
      ]
    },
    {
      "metadata": {
        "id": "R8XaBr9Zu5h2",
        "colab_type": "code",
        "outputId": "b17f526d-8c0f-4ea8-c6c0-1e7057ced3d2",
        "colab": {
          "base_uri": "https://localhost:8080/",
          "height": 119
        }
      },
      "cell_type": "code",
      "source": [
        "dataset.columns"
      ],
      "execution_count": 0,
      "outputs": [
        {
          "output_type": "execute_result",
          "data": {
            "text/plain": [
              "Index(['TID', 'vendor_id', 'new_user', 'tolls_amount', 'tip_amount', 'mta_tax',\n",
              "       'pickup_datetime', 'dropoff_datetime', 'passenger_count',\n",
              "       'pickup_longitude', 'pickup_latitude', 'rate_code',\n",
              "       'store_and_fwd_flag', 'dropoff_longitude', 'dropoff_latitude',\n",
              "       'payment_type', 'surcharge', 'fare_amount'],\n",
              "      dtype='object')"
            ]
          },
          "metadata": {
            "tags": []
          },
          "execution_count": 27
        }
      ]
    },
    {
      "metadata": {
        "id": "xrDMmku5uFZc",
        "colab_type": "code",
        "outputId": "d25f3d02-969e-4484-a4dd-1286f71a07ba",
        "colab": {
          "base_uri": "https://localhost:8080/",
          "height": 34
        }
      },
      "cell_type": "code",
      "source": [
        "len(dataset['TID'].unique())"
      ],
      "execution_count": 0,
      "outputs": [
        {
          "output_type": "execute_result",
          "data": {
            "text/plain": [
              "1048575"
            ]
          },
          "metadata": {
            "tags": []
          },
          "execution_count": 28
        }
      ]
    },
    {
      "metadata": {
        "id": "7hriOpRxuKvK",
        "colab_type": "code",
        "colab": {}
      },
      "cell_type": "code",
      "source": [
        "dataset=dataset.drop(['TID'],axis=1)"
      ],
      "execution_count": 0,
      "outputs": []
    },
    {
      "metadata": {
        "id": "Lvonxcq8uW-F",
        "colab_type": "code",
        "outputId": "742adc00-3e4b-44f1-8687-f7d1a7faf60e",
        "colab": {
          "base_uri": "https://localhost:8080/",
          "height": 34
        }
      },
      "cell_type": "code",
      "source": [
        "len(dataset['vendor_id'].unique())"
      ],
      "execution_count": 0,
      "outputs": [
        {
          "output_type": "execute_result",
          "data": {
            "text/plain": [
              "2"
            ]
          },
          "metadata": {
            "tags": []
          },
          "execution_count": 30
        }
      ]
    },
    {
      "metadata": {
        "id": "JJSqtwCsuZpH",
        "colab_type": "code",
        "colab": {}
      },
      "cell_type": "code",
      "source": [
        "dataset=dataset.rename(columns={'vendor_id':'vendors'})"
      ],
      "execution_count": 0,
      "outputs": []
    },
    {
      "metadata": {
        "id": "0ySMbqVlu_MH",
        "colab_type": "code",
        "outputId": "9fcef089-98d6-4ef4-ee3b-b1d259e9226b",
        "colab": {
          "base_uri": "https://localhost:8080/",
          "height": 170
        }
      },
      "cell_type": "code",
      "source": [
        "dataset['rate_code'].value_counts()"
      ],
      "execution_count": 0,
      "outputs": [
        {
          "output_type": "execute_result",
          "data": {
            "text/plain": [
              "1.0      1023614\n",
              "2.0        19812\n",
              "5.0         3041\n",
              "3.0         1656\n",
              "4.0          337\n",
              "0.0           46\n",
              "6.0           15\n",
              "210.0          2\n",
              "Name: rate_code, dtype: int64"
            ]
          },
          "metadata": {
            "tags": []
          },
          "execution_count": 32
        }
      ]
    },
    {
      "metadata": {
        "id": "UwYuZanMvg-8",
        "colab_type": "code",
        "outputId": "048e748a-e191-4bd5-b481-fbcc3dc617f2",
        "colab": {
          "base_uri": "https://localhost:8080/",
          "height": 34
        }
      },
      "cell_type": "code",
      "source": [
        "dataset.new_user.unique()"
      ],
      "execution_count": 0,
      "outputs": [
        {
          "output_type": "execute_result",
          "data": {
            "text/plain": [
              "array(['NO'], dtype=object)"
            ]
          },
          "metadata": {
            "tags": []
          },
          "execution_count": 33
        }
      ]
    },
    {
      "metadata": {
        "id": "N27WVsbzviHi",
        "colab_type": "code",
        "colab": {}
      },
      "cell_type": "code",
      "source": [
        "dataset=dataset.drop(['new_user'],axis=1)"
      ],
      "execution_count": 0,
      "outputs": []
    },
    {
      "metadata": {
        "id": "H76kqWZVvlJP",
        "colab_type": "code",
        "outputId": "16aa3df5-6f6b-4d96-9272-05f7abfec0b5",
        "colab": {
          "base_uri": "https://localhost:8080/",
          "height": 34
        }
      },
      "cell_type": "code",
      "source": [
        "(dataset[dataset['tolls_amount']==0].shape[0]/dataset.shape[0])*100"
      ],
      "execution_count": 0,
      "outputs": [
        {
          "output_type": "execute_result",
          "data": {
            "text/plain": [
              "95.14455332236606"
            ]
          },
          "metadata": {
            "tags": []
          },
          "execution_count": 35
        }
      ]
    },
    {
      "metadata": {
        "id": "1aIhAtVG1tiO",
        "colab_type": "code",
        "colab": {}
      },
      "cell_type": "code",
      "source": [
        "dataset=dataset.drop(['tolls_amount'],axis=1)"
      ],
      "execution_count": 0,
      "outputs": []
    },
    {
      "metadata": {
        "id": "nYN9nLC01wz9",
        "colab_type": "code",
        "outputId": "fd437b87-efa0-4568-829a-99fcfb6f4c3b",
        "colab": {
          "base_uri": "https://localhost:8080/",
          "height": 34
        }
      },
      "cell_type": "code",
      "source": [
        "(dataset['store_and_fwd_flag'].isnull().sum()/dataset['store_and_fwd_flag'].isnull().count())*100"
      ],
      "execution_count": 0,
      "outputs": [
        {
          "output_type": "execute_result",
          "data": {
            "text/plain": [
              "53.537801301766685"
            ]
          },
          "metadata": {
            "tags": []
          },
          "execution_count": 37
        }
      ]
    },
    {
      "metadata": {
        "id": "Lwdggks42Eg1",
        "colab_type": "code",
        "colab": {}
      },
      "cell_type": "code",
      "source": [
        "dataset=dataset.drop(['store_and_fwd_flag'],axis=1)"
      ],
      "execution_count": 0,
      "outputs": []
    },
    {
      "metadata": {
        "id": "jjqpxilh2LUK",
        "colab_type": "code",
        "colab": {}
      },
      "cell_type": "code",
      "source": [
        "dataset=dataset[dataset['dropoff_datetime']>=dataset['pickup_datetime']]\n",
        "dataset=dataset[(dataset['pickup_latitude']!=dataset['dropoff_latitude']) & (dataset['pickup_longitude']!=dataset['dropoff_longitude'])]"
      ],
      "execution_count": 0,
      "outputs": []
    },
    {
      "metadata": {
        "id": "AACCX1O32SOl",
        "colab_type": "code",
        "colab": {}
      },
      "cell_type": "code",
      "source": [
        "dataset['travel_seconds']=(dataset['dropoff_datetime']-dataset['pickup_datetime']).dt.total_seconds()"
      ],
      "execution_count": 0,
      "outputs": []
    },
    {
      "metadata": {
        "id": "nUXwQ6ST2WGm",
        "colab_type": "code",
        "colab": {}
      },
      "cell_type": "code",
      "source": [
        "import geopy.distance\n",
        "\n",
        "dataset['travel_kms']=dataset[dataset.pickup_latitude.notnull() & dataset.pickup_longitude.notnull()  & dataset.dropoff_latitude.notnull()  & dataset.dropoff_longitude.notnull()].apply(\n",
        "(lambda row: geopy.distance.vincenty(\n",
        "        (row['pickup_latitude'], row['pickup_longitude']),\n",
        "        (row['dropoff_latitude'], row['dropoff_longitude'])\n",
        "    ).km),\n",
        "    axis=1\n",
        ")"
      ],
      "execution_count": 0,
      "outputs": []
    },
    {
      "metadata": {
        "id": "JOH5maHRZkDG",
        "colab_type": "code",
        "colab": {}
      },
      "cell_type": "code",
      "source": [
        "dataset['hour']=dataset.pickup_datetime.apply(lambda x: x.hour)"
      ],
      "execution_count": 0,
      "outputs": []
    },
    {
      "metadata": {
        "id": "wZEcquMl_-3x",
        "colab_type": "code",
        "colab": {}
      },
      "cell_type": "code",
      "source": [
        "dataset['is_weekend']=dataset['pickup_datetime'].apply(lambda x: 0 if x.weekday() <= 4 else 1)"
      ],
      "execution_count": 0,
      "outputs": []
    },
    {
      "metadata": {
        "id": "d_haZqUE2-1O",
        "colab_type": "code",
        "outputId": "7b845721-9b54-47da-f9c0-bb3c33ff299b",
        "colab": {
          "base_uri": "https://localhost:8080/",
          "height": 309
        }
      },
      "cell_type": "code",
      "source": [
        "dataset.head()"
      ],
      "execution_count": 0,
      "outputs": [
        {
          "output_type": "execute_result",
          "data": {
            "text/html": [
              "<div>\n",
              "<style scoped>\n",
              "    .dataframe tbody tr th:only-of-type {\n",
              "        vertical-align: middle;\n",
              "    }\n",
              "\n",
              "    .dataframe tbody tr th {\n",
              "        vertical-align: top;\n",
              "    }\n",
              "\n",
              "    .dataframe thead th {\n",
              "        text-align: right;\n",
              "    }\n",
              "</style>\n",
              "<table border=\"1\" class=\"dataframe\">\n",
              "  <thead>\n",
              "    <tr style=\"text-align: right;\">\n",
              "      <th></th>\n",
              "      <th>vendors</th>\n",
              "      <th>tip_amount</th>\n",
              "      <th>mta_tax</th>\n",
              "      <th>pickup_datetime</th>\n",
              "      <th>dropoff_datetime</th>\n",
              "      <th>passenger_count</th>\n",
              "      <th>pickup_longitude</th>\n",
              "      <th>pickup_latitude</th>\n",
              "      <th>rate_code</th>\n",
              "      <th>dropoff_longitude</th>\n",
              "      <th>dropoff_latitude</th>\n",
              "      <th>payment_type</th>\n",
              "      <th>surcharge</th>\n",
              "      <th>fare_amount</th>\n",
              "      <th>travel_seconds</th>\n",
              "      <th>travel_kms</th>\n",
              "      <th>hour</th>\n",
              "      <th>is_weekend</th>\n",
              "    </tr>\n",
              "  </thead>\n",
              "  <tbody>\n",
              "    <tr>\n",
              "      <th>0</th>\n",
              "      <td>DST000401</td>\n",
              "      <td>1.4</td>\n",
              "      <td>NaN</td>\n",
              "      <td>2015-04-20 04:18:00</td>\n",
              "      <td>2015-04-20 04:24:00</td>\n",
              "      <td>1.0</td>\n",
              "      <td>-74.003939</td>\n",
              "      <td>40.742894</td>\n",
              "      <td>1.0</td>\n",
              "      <td>-73.993369</td>\n",
              "      <td>40.734247</td>\n",
              "      <td>CRD</td>\n",
              "      <td>0.5</td>\n",
              "      <td>8.4</td>\n",
              "      <td>360.0</td>\n",
              "      <td>1.311173</td>\n",
              "      <td>4</td>\n",
              "      <td>0</td>\n",
              "    </tr>\n",
              "    <tr>\n",
              "      <th>1</th>\n",
              "      <td>DST000401</td>\n",
              "      <td>1.0</td>\n",
              "      <td>NaN</td>\n",
              "      <td>2015-04-19 18:16:00</td>\n",
              "      <td>2015-04-19 18:22:00</td>\n",
              "      <td>3.0</td>\n",
              "      <td>-73.973864</td>\n",
              "      <td>40.752194</td>\n",
              "      <td>1.0</td>\n",
              "      <td>-73.958701</td>\n",
              "      <td>40.772533</td>\n",
              "      <td>CRD</td>\n",
              "      <td>0.0</td>\n",
              "      <td>8.5</td>\n",
              "      <td>360.0</td>\n",
              "      <td>2.596270</td>\n",
              "      <td>18</td>\n",
              "      <td>1</td>\n",
              "    </tr>\n",
              "    <tr>\n",
              "      <th>2</th>\n",
              "      <td>DST000401</td>\n",
              "      <td>0.0</td>\n",
              "      <td>NaN</td>\n",
              "      <td>2015-04-06 08:04:00</td>\n",
              "      <td>2015-04-06 08:10:00</td>\n",
              "      <td>2.0</td>\n",
              "      <td>-73.954406</td>\n",
              "      <td>40.764420</td>\n",
              "      <td>1.0</td>\n",
              "      <td>-73.970780</td>\n",
              "      <td>40.758350</td>\n",
              "      <td>CSH</td>\n",
              "      <td>0.0</td>\n",
              "      <td>7.0</td>\n",
              "      <td>360.0</td>\n",
              "      <td>1.538152</td>\n",
              "      <td>8</td>\n",
              "      <td>0</td>\n",
              "    </tr>\n",
              "    <tr>\n",
              "      <th>3</th>\n",
              "      <td>DST000532</td>\n",
              "      <td>1.8</td>\n",
              "      <td>NaN</td>\n",
              "      <td>2015-04-10 09:48:00</td>\n",
              "      <td>2015-04-10 10:00:00</td>\n",
              "      <td>2.0</td>\n",
              "      <td>-73.962345</td>\n",
              "      <td>40.767215</td>\n",
              "      <td>1.0</td>\n",
              "      <td>-73.975512</td>\n",
              "      <td>40.756867</td>\n",
              "      <td>CRD</td>\n",
              "      <td>0.0</td>\n",
              "      <td>11.3</td>\n",
              "      <td>720.0</td>\n",
              "      <td>1.598931</td>\n",
              "      <td>9</td>\n",
              "      <td>0</td>\n",
              "    </tr>\n",
              "    <tr>\n",
              "      <th>4</th>\n",
              "      <td>DST000401</td>\n",
              "      <td>0.0</td>\n",
              "      <td>NaN</td>\n",
              "      <td>2015-04-15 13:12:00</td>\n",
              "      <td>2015-04-15 13:26:00</td>\n",
              "      <td>1.0</td>\n",
              "      <td>-74.004657</td>\n",
              "      <td>40.707434</td>\n",
              "      <td>1.0</td>\n",
              "      <td>-73.999369</td>\n",
              "      <td>40.721517</td>\n",
              "      <td>CSH</td>\n",
              "      <td>0.0</td>\n",
              "      <td>10.0</td>\n",
              "      <td>840.0</td>\n",
              "      <td>1.626473</td>\n",
              "      <td>13</td>\n",
              "      <td>0</td>\n",
              "    </tr>\n",
              "  </tbody>\n",
              "</table>\n",
              "</div>"
            ],
            "text/plain": [
              "     vendors  tip_amount  mta_tax     pickup_datetime    dropoff_datetime  \\\n",
              "0  DST000401         1.4      NaN 2015-04-20 04:18:00 2015-04-20 04:24:00   \n",
              "1  DST000401         1.0      NaN 2015-04-19 18:16:00 2015-04-19 18:22:00   \n",
              "2  DST000401         0.0      NaN 2015-04-06 08:04:00 2015-04-06 08:10:00   \n",
              "3  DST000532         1.8      NaN 2015-04-10 09:48:00 2015-04-10 10:00:00   \n",
              "4  DST000401         0.0      NaN 2015-04-15 13:12:00 2015-04-15 13:26:00   \n",
              "\n",
              "   passenger_count  pickup_longitude  pickup_latitude  rate_code  \\\n",
              "0              1.0        -74.003939        40.742894        1.0   \n",
              "1              3.0        -73.973864        40.752194        1.0   \n",
              "2              2.0        -73.954406        40.764420        1.0   \n",
              "3              2.0        -73.962345        40.767215        1.0   \n",
              "4              1.0        -74.004657        40.707434        1.0   \n",
              "\n",
              "   dropoff_longitude  dropoff_latitude payment_type  surcharge  fare_amount  \\\n",
              "0         -73.993369         40.734247          CRD        0.5          8.4   \n",
              "1         -73.958701         40.772533          CRD        0.0          8.5   \n",
              "2         -73.970780         40.758350          CSH        0.0          7.0   \n",
              "3         -73.975512         40.756867          CRD        0.0         11.3   \n",
              "4         -73.999369         40.721517          CSH        0.0         10.0   \n",
              "\n",
              "   travel_seconds  travel_kms  hour  is_weekend  \n",
              "0           360.0    1.311173     4           0  \n",
              "1           360.0    2.596270    18           1  \n",
              "2           360.0    1.538152     8           0  \n",
              "3           720.0    1.598931     9           0  \n",
              "4           840.0    1.626473    13           0  "
            ]
          },
          "metadata": {
            "tags": []
          },
          "execution_count": 44
        }
      ]
    },
    {
      "metadata": {
        "id": "tQCvuGX03U2M",
        "colab_type": "code",
        "colab": {}
      },
      "cell_type": "code",
      "source": [
        "revised_dataset=dataset.drop(['pickup_latitude','pickup_longitude','dropoff_latitude','dropoff_longitude','dropoff_datetime','pickup_datetime'],axis=1)"
      ],
      "execution_count": 0,
      "outputs": []
    },
    {
      "metadata": {
        "id": "j1qnKsEz3YKf",
        "colab_type": "code",
        "colab": {}
      },
      "cell_type": "code",
      "source": [
        "import numpy as np"
      ],
      "execution_count": 0,
      "outputs": []
    },
    {
      "metadata": {
        "id": "M2shEdUH3rHe",
        "colab_type": "code",
        "outputId": "370497a8-bc7e-4ece-c073-0c8e169e853a",
        "colab": {
          "base_uri": "https://localhost:8080/",
          "height": 34
        }
      },
      "cell_type": "code",
      "source": [
        "revised_dataset['passenger_count'].isnull().sum()"
      ],
      "execution_count": 0,
      "outputs": [
        {
          "output_type": "execute_result",
          "data": {
            "text/plain": [
              "164"
            ]
          },
          "metadata": {
            "tags": []
          },
          "execution_count": 47
        }
      ]
    },
    {
      "metadata": {
        "id": "G3cxPvs83tqd",
        "colab_type": "code",
        "colab": {}
      },
      "cell_type": "code",
      "source": [
        "revised_dataset['passenger_count']=revised_dataset['passenger_count'].fillna(revised_dataset['passenger_count'].mode()[0])\n",
        "revised_dataset['passenger_count']=revised_dataset['passenger_count'].astype('int')"
      ],
      "execution_count": 0,
      "outputs": []
    },
    {
      "metadata": {
        "id": "w9a1hk0U3cg_",
        "colab_type": "code",
        "outputId": "3ad3f2ca-1758-474a-baf1-688690b6e1bd",
        "colab": {
          "base_uri": "https://localhost:8080/",
          "height": 34
        }
      },
      "cell_type": "code",
      "source": [
        "revised_dataset['payment_type'].isnull().sum()"
      ],
      "execution_count": 0,
      "outputs": [
        {
          "output_type": "execute_result",
          "data": {
            "text/plain": [
              "118"
            ]
          },
          "metadata": {
            "tags": []
          },
          "execution_count": 49
        }
      ]
    },
    {
      "metadata": {
        "id": "Ss995fks30vx",
        "colab_type": "code",
        "outputId": "0ecae0c4-b210-4005-d5d5-791203b6cb74",
        "colab": {
          "base_uri": "https://localhost:8080/",
          "height": 34
        }
      },
      "cell_type": "code",
      "source": [
        "revised_dataset['payment_type']=revised_dataset['payment_type'].astype('str')\n",
        "revised_dataset['payment_type']=revised_dataset['payment_type'].replace('nan','UNK')\n",
        "revised_dataset['payment_type']=revised_dataset['payment_type'].replace('UNK',revised_dataset['payment_type'].mode()[0])\n",
        "revised_dataset['payment_type'].unique()"
      ],
      "execution_count": 0,
      "outputs": [
        {
          "output_type": "execute_result",
          "data": {
            "text/plain": [
              "array(['CRD', 'CSH', 'DIS', 'NOC'], dtype=object)"
            ]
          },
          "metadata": {
            "tags": []
          },
          "execution_count": 50
        }
      ]
    },
    {
      "metadata": {
        "id": "COh0aOmW3frV",
        "colab_type": "code",
        "outputId": "7be972ce-4f38-44d5-e103-10a3f265c3ca",
        "colab": {
          "base_uri": "https://localhost:8080/",
          "height": 34
        }
      },
      "cell_type": "code",
      "source": [
        "revised_dataset['rate_code'].isnull().sum()"
      ],
      "execution_count": 0,
      "outputs": [
        {
          "output_type": "execute_result",
          "data": {
            "text/plain": [
              "46"
            ]
          },
          "metadata": {
            "tags": []
          },
          "execution_count": 51
        }
      ]
    },
    {
      "metadata": {
        "id": "X4Rf9pRy4a_4",
        "colab_type": "code",
        "outputId": "9d07a212-fe17-4677-853d-51e82265c5d0",
        "colab": {
          "base_uri": "https://localhost:8080/",
          "height": 34
        }
      },
      "cell_type": "code",
      "source": [
        "revised_dataset['rate_code']=revised_dataset['rate_code'].fillna(revised_dataset['rate_code'].mode()[0])\n",
        "revised_dataset['rate_code'].isnull().sum()\n",
        "revised_dataset['rate_code']=revised_dataset['rate_code'].astype('int')\n",
        "revised_dataset['rate_code']=revised_dataset['rate_code'].replace(210,7)\n",
        "revised_dataset['rate_code'].unique()"
      ],
      "execution_count": 0,
      "outputs": [
        {
          "output_type": "execute_result",
          "data": {
            "text/plain": [
              "array([1, 2, 4, 5, 3, 0, 6, 7])"
            ]
          },
          "metadata": {
            "tags": []
          },
          "execution_count": 52
        }
      ]
    },
    {
      "metadata": {
        "id": "ZafqJNve4jKW",
        "colab_type": "code",
        "outputId": "371eeab4-58eb-4b31-a354-53467a83312a",
        "colab": {
          "base_uri": "https://localhost:8080/",
          "height": 34
        }
      },
      "cell_type": "code",
      "source": [
        "revised_dataset['tip_amount'].isnull().sum()"
      ],
      "execution_count": 0,
      "outputs": [
        {
          "output_type": "execute_result",
          "data": {
            "text/plain": [
              "102216"
            ]
          },
          "metadata": {
            "tags": []
          },
          "execution_count": 53
        }
      ]
    },
    {
      "metadata": {
        "id": "78nLzCji4nop",
        "colab_type": "code",
        "colab": {}
      },
      "cell_type": "code",
      "source": [
        "revised_dataset['tip_amount']=revised_dataset['tip_amount'].fillna(0)"
      ],
      "execution_count": 0,
      "outputs": []
    },
    {
      "metadata": {
        "id": "-L5HcO1u4vCQ",
        "colab_type": "code",
        "colab": {}
      },
      "cell_type": "code",
      "source": [
        "revised_dataset['payment_type']=revised_dataset['payment_type'].astype('category')\n",
        "revised_dataset['rate_code']=revised_dataset['rate_code'].astype('category')\n",
        "revised_dataset['vendors']=revised_dataset['vendors'].astype('category')\n",
        "revised_dataset['hour']=revised_dataset['hour'].astype('category')\n",
        "revised_dataset['is_weekend']=revised_dataset['is_weekend'].astype('category')"
      ],
      "execution_count": 0,
      "outputs": []
    },
    {
      "metadata": {
        "id": "lssXX9-S40TN",
        "colab_type": "code",
        "colab": {}
      },
      "cell_type": "code",
      "source": [
        "for i in revised_dataset.columns:\n",
        "    if type(revised_dataset[i][0])==np.float64:\n",
        "        revised_dataset[i]=revised_dataset[i].fillna(revised_dataset[i].mean())"
      ],
      "execution_count": 0,
      "outputs": []
    },
    {
      "metadata": {
        "id": "3q_Xd6Cd5A2d",
        "colab_type": "code",
        "outputId": "4deabe1c-70fe-4359-87d0-95e5e6e1c5aa",
        "colab": {
          "base_uri": "https://localhost:8080/",
          "height": 238
        }
      },
      "cell_type": "code",
      "source": [
        "revised_dataset.isnull().sum()"
      ],
      "execution_count": 0,
      "outputs": [
        {
          "output_type": "execute_result",
          "data": {
            "text/plain": [
              "vendors            0\n",
              "tip_amount         0\n",
              "mta_tax            0\n",
              "passenger_count    0\n",
              "rate_code          0\n",
              "payment_type       0\n",
              "surcharge          0\n",
              "fare_amount        0\n",
              "travel_seconds     0\n",
              "travel_kms         0\n",
              "hour               0\n",
              "is_weekend         0\n",
              "dtype: int64"
            ]
          },
          "metadata": {
            "tags": []
          },
          "execution_count": 57
        }
      ]
    },
    {
      "metadata": {
        "id": "RxRI8-OC5Dgs",
        "colab_type": "code",
        "outputId": "e68096db-96aa-4e44-c099-a40a887725d6",
        "colab": {
          "base_uri": "https://localhost:8080/",
          "height": 204
        }
      },
      "cell_type": "code",
      "source": [
        "revised_dataset.head()"
      ],
      "execution_count": 0,
      "outputs": [
        {
          "output_type": "execute_result",
          "data": {
            "text/html": [
              "<div>\n",
              "<style scoped>\n",
              "    .dataframe tbody tr th:only-of-type {\n",
              "        vertical-align: middle;\n",
              "    }\n",
              "\n",
              "    .dataframe tbody tr th {\n",
              "        vertical-align: top;\n",
              "    }\n",
              "\n",
              "    .dataframe thead th {\n",
              "        text-align: right;\n",
              "    }\n",
              "</style>\n",
              "<table border=\"1\" class=\"dataframe\">\n",
              "  <thead>\n",
              "    <tr style=\"text-align: right;\">\n",
              "      <th></th>\n",
              "      <th>vendors</th>\n",
              "      <th>tip_amount</th>\n",
              "      <th>mta_tax</th>\n",
              "      <th>passenger_count</th>\n",
              "      <th>rate_code</th>\n",
              "      <th>payment_type</th>\n",
              "      <th>surcharge</th>\n",
              "      <th>fare_amount</th>\n",
              "      <th>travel_seconds</th>\n",
              "      <th>travel_kms</th>\n",
              "      <th>hour</th>\n",
              "      <th>is_weekend</th>\n",
              "    </tr>\n",
              "  </thead>\n",
              "  <tbody>\n",
              "    <tr>\n",
              "      <th>0</th>\n",
              "      <td>DST000401</td>\n",
              "      <td>1.4</td>\n",
              "      <td>0.498461</td>\n",
              "      <td>1</td>\n",
              "      <td>1</td>\n",
              "      <td>CRD</td>\n",
              "      <td>0.5</td>\n",
              "      <td>8.4</td>\n",
              "      <td>360.0</td>\n",
              "      <td>1.311173</td>\n",
              "      <td>4</td>\n",
              "      <td>0</td>\n",
              "    </tr>\n",
              "    <tr>\n",
              "      <th>1</th>\n",
              "      <td>DST000401</td>\n",
              "      <td>1.0</td>\n",
              "      <td>0.498461</td>\n",
              "      <td>3</td>\n",
              "      <td>1</td>\n",
              "      <td>CRD</td>\n",
              "      <td>0.0</td>\n",
              "      <td>8.5</td>\n",
              "      <td>360.0</td>\n",
              "      <td>2.596270</td>\n",
              "      <td>18</td>\n",
              "      <td>1</td>\n",
              "    </tr>\n",
              "    <tr>\n",
              "      <th>2</th>\n",
              "      <td>DST000401</td>\n",
              "      <td>0.0</td>\n",
              "      <td>0.498461</td>\n",
              "      <td>2</td>\n",
              "      <td>1</td>\n",
              "      <td>CSH</td>\n",
              "      <td>0.0</td>\n",
              "      <td>7.0</td>\n",
              "      <td>360.0</td>\n",
              "      <td>1.538152</td>\n",
              "      <td>8</td>\n",
              "      <td>0</td>\n",
              "    </tr>\n",
              "    <tr>\n",
              "      <th>3</th>\n",
              "      <td>DST000532</td>\n",
              "      <td>1.8</td>\n",
              "      <td>0.498461</td>\n",
              "      <td>2</td>\n",
              "      <td>1</td>\n",
              "      <td>CRD</td>\n",
              "      <td>0.0</td>\n",
              "      <td>11.3</td>\n",
              "      <td>720.0</td>\n",
              "      <td>1.598931</td>\n",
              "      <td>9</td>\n",
              "      <td>0</td>\n",
              "    </tr>\n",
              "    <tr>\n",
              "      <th>4</th>\n",
              "      <td>DST000401</td>\n",
              "      <td>0.0</td>\n",
              "      <td>0.498461</td>\n",
              "      <td>1</td>\n",
              "      <td>1</td>\n",
              "      <td>CSH</td>\n",
              "      <td>0.0</td>\n",
              "      <td>10.0</td>\n",
              "      <td>840.0</td>\n",
              "      <td>1.626473</td>\n",
              "      <td>13</td>\n",
              "      <td>0</td>\n",
              "    </tr>\n",
              "  </tbody>\n",
              "</table>\n",
              "</div>"
            ],
            "text/plain": [
              "     vendors  tip_amount   mta_tax  passenger_count rate_code payment_type  \\\n",
              "0  DST000401         1.4  0.498461                1         1          CRD   \n",
              "1  DST000401         1.0  0.498461                3         1          CRD   \n",
              "2  DST000401         0.0  0.498461                2         1          CSH   \n",
              "3  DST000532         1.8  0.498461                2         1          CRD   \n",
              "4  DST000401         0.0  0.498461                1         1          CSH   \n",
              "\n",
              "   surcharge  fare_amount  travel_seconds  travel_kms hour is_weekend  \n",
              "0        0.5          8.4           360.0    1.311173    4          0  \n",
              "1        0.0          8.5           360.0    2.596270   18          1  \n",
              "2        0.0          7.0           360.0    1.538152    8          0  \n",
              "3        0.0         11.3           720.0    1.598931    9          0  \n",
              "4        0.0         10.0           840.0    1.626473   13          0  "
            ]
          },
          "metadata": {
            "tags": []
          },
          "execution_count": 58
        }
      ]
    },
    {
      "metadata": {
        "id": "DVJoFkrH5Kpi",
        "colab_type": "code",
        "outputId": "8aed61e0-d71e-4c39-b73d-1668c189c40d",
        "colab": {
          "base_uri": "https://localhost:8080/",
          "height": 297
        }
      },
      "cell_type": "code",
      "source": [
        "revised_dataset.describe()"
      ],
      "execution_count": 0,
      "outputs": [
        {
          "output_type": "execute_result",
          "data": {
            "text/html": [
              "<div>\n",
              "<style scoped>\n",
              "    .dataframe tbody tr th:only-of-type {\n",
              "        vertical-align: middle;\n",
              "    }\n",
              "\n",
              "    .dataframe tbody tr th {\n",
              "        vertical-align: top;\n",
              "    }\n",
              "\n",
              "    .dataframe thead th {\n",
              "        text-align: right;\n",
              "    }\n",
              "</style>\n",
              "<table border=\"1\" class=\"dataframe\">\n",
              "  <thead>\n",
              "    <tr style=\"text-align: right;\">\n",
              "      <th></th>\n",
              "      <th>tip_amount</th>\n",
              "      <th>mta_tax</th>\n",
              "      <th>passenger_count</th>\n",
              "      <th>surcharge</th>\n",
              "      <th>fare_amount</th>\n",
              "      <th>travel_seconds</th>\n",
              "      <th>travel_kms</th>\n",
              "    </tr>\n",
              "  </thead>\n",
              "  <tbody>\n",
              "    <tr>\n",
              "      <th>count</th>\n",
              "      <td>1.022737e+06</td>\n",
              "      <td>1.022737e+06</td>\n",
              "      <td>1.022737e+06</td>\n",
              "      <td>1.022737e+06</td>\n",
              "      <td>1.022737e+06</td>\n",
              "      <td>1.022737e+06</td>\n",
              "      <td>1.022737e+06</td>\n",
              "    </tr>\n",
              "    <tr>\n",
              "      <th>mean</th>\n",
              "      <td>1.353696e+00</td>\n",
              "      <td>4.984613e-01</td>\n",
              "      <td>1.721259e+00</td>\n",
              "      <td>3.195168e-01</td>\n",
              "      <td>1.519269e+01</td>\n",
              "      <td>7.959504e+02</td>\n",
              "      <td>3.470281e+01</td>\n",
              "    </tr>\n",
              "    <tr>\n",
              "      <th>std</th>\n",
              "      <td>2.223237e+00</td>\n",
              "      <td>2.769283e-02</td>\n",
              "      <td>1.382938e+00</td>\n",
              "      <td>3.502397e-01</td>\n",
              "      <td>1.244880e+01</td>\n",
              "      <td>6.077046e+02</td>\n",
              "      <td>5.043047e+02</td>\n",
              "    </tr>\n",
              "    <tr>\n",
              "      <th>min</th>\n",
              "      <td>0.000000e+00</td>\n",
              "      <td>0.000000e+00</td>\n",
              "      <td>0.000000e+00</td>\n",
              "      <td>0.000000e+00</td>\n",
              "      <td>2.500000e+00</td>\n",
              "      <td>0.000000e+00</td>\n",
              "      <td>1.389743e-04</td>\n",
              "    </tr>\n",
              "    <tr>\n",
              "      <th>25%</th>\n",
              "      <td>0.000000e+00</td>\n",
              "      <td>5.000000e-01</td>\n",
              "      <td>1.000000e+00</td>\n",
              "      <td>0.000000e+00</td>\n",
              "      <td>8.000000e+00</td>\n",
              "      <td>3.600000e+02</td>\n",
              "      <td>1.339009e+00</td>\n",
              "    </tr>\n",
              "    <tr>\n",
              "      <th>50%</th>\n",
              "      <td>7.500000e-01</td>\n",
              "      <td>5.000000e-01</td>\n",
              "      <td>1.000000e+00</td>\n",
              "      <td>3.195168e-01</td>\n",
              "      <td>1.140000e+01</td>\n",
              "      <td>6.600000e+02</td>\n",
              "      <td>2.344678e+00</td>\n",
              "    </tr>\n",
              "    <tr>\n",
              "      <th>75%</th>\n",
              "      <td>2.000000e+00</td>\n",
              "      <td>5.000000e-01</td>\n",
              "      <td>2.000000e+00</td>\n",
              "      <td>5.000000e-01</td>\n",
              "      <td>1.700000e+01</td>\n",
              "      <td>1.020000e+03</td>\n",
              "      <td>4.658837e+00</td>\n",
              "    </tr>\n",
              "    <tr>\n",
              "      <th>max</th>\n",
              "      <td>2.000000e+02</td>\n",
              "      <td>5.000000e-01</td>\n",
              "      <td>9.000000e+00</td>\n",
              "      <td>2.500000e+00</td>\n",
              "      <td>4.875000e+02</td>\n",
              "      <td>4.650000e+04</td>\n",
              "      <td>1.451410e+04</td>\n",
              "    </tr>\n",
              "  </tbody>\n",
              "</table>\n",
              "</div>"
            ],
            "text/plain": [
              "         tip_amount       mta_tax  passenger_count     surcharge  \\\n",
              "count  1.022737e+06  1.022737e+06     1.022737e+06  1.022737e+06   \n",
              "mean   1.353696e+00  4.984613e-01     1.721259e+00  3.195168e-01   \n",
              "std    2.223237e+00  2.769283e-02     1.382938e+00  3.502397e-01   \n",
              "min    0.000000e+00  0.000000e+00     0.000000e+00  0.000000e+00   \n",
              "25%    0.000000e+00  5.000000e-01     1.000000e+00  0.000000e+00   \n",
              "50%    7.500000e-01  5.000000e-01     1.000000e+00  3.195168e-01   \n",
              "75%    2.000000e+00  5.000000e-01     2.000000e+00  5.000000e-01   \n",
              "max    2.000000e+02  5.000000e-01     9.000000e+00  2.500000e+00   \n",
              "\n",
              "        fare_amount  travel_seconds    travel_kms  \n",
              "count  1.022737e+06    1.022737e+06  1.022737e+06  \n",
              "mean   1.519269e+01    7.959504e+02  3.470281e+01  \n",
              "std    1.244880e+01    6.077046e+02  5.043047e+02  \n",
              "min    2.500000e+00    0.000000e+00  1.389743e-04  \n",
              "25%    8.000000e+00    3.600000e+02  1.339009e+00  \n",
              "50%    1.140000e+01    6.600000e+02  2.344678e+00  \n",
              "75%    1.700000e+01    1.020000e+03  4.658837e+00  \n",
              "max    4.875000e+02    4.650000e+04  1.451410e+04  "
            ]
          },
          "metadata": {
            "tags": []
          },
          "execution_count": 59
        }
      ]
    },
    {
      "metadata": {
        "id": "a3fmw6Tk5ON2",
        "colab_type": "code",
        "outputId": "6198fa75-37ae-45b8-c015-ca1e6066b9e0",
        "colab": {
          "base_uri": "https://localhost:8080/",
          "height": 306
        }
      },
      "cell_type": "code",
      "source": [
        "revised_dataset.info()"
      ],
      "execution_count": 0,
      "outputs": [
        {
          "output_type": "stream",
          "text": [
            "<class 'pandas.core.frame.DataFrame'>\n",
            "Int64Index: 1022737 entries, 0 to 1048574\n",
            "Data columns (total 12 columns):\n",
            "vendors            1022737 non-null category\n",
            "tip_amount         1022737 non-null float64\n",
            "mta_tax            1022737 non-null float64\n",
            "passenger_count    1022737 non-null int64\n",
            "rate_code          1022737 non-null category\n",
            "payment_type       1022737 non-null category\n",
            "surcharge          1022737 non-null float64\n",
            "fare_amount        1022737 non-null float64\n",
            "travel_seconds     1022737 non-null float64\n",
            "travel_kms         1022737 non-null float64\n",
            "hour               1022737 non-null category\n",
            "is_weekend         1022737 non-null category\n",
            "dtypes: category(5), float64(6), int64(1)\n",
            "memory usage: 107.3 MB\n"
          ],
          "name": "stdout"
        }
      ]
    },
    {
      "metadata": {
        "id": "_y2cYXE65Q5-",
        "colab_type": "code",
        "outputId": "3f43e981-41b1-492b-f20d-51f7d7d1ef02",
        "colab": {
          "base_uri": "https://localhost:8080/",
          "height": 266
        }
      },
      "cell_type": "code",
      "source": [
        "revised_dataset.corr()"
      ],
      "execution_count": 0,
      "outputs": [
        {
          "output_type": "execute_result",
          "data": {
            "text/html": [
              "<div>\n",
              "<style scoped>\n",
              "    .dataframe tbody tr th:only-of-type {\n",
              "        vertical-align: middle;\n",
              "    }\n",
              "\n",
              "    .dataframe tbody tr th {\n",
              "        vertical-align: top;\n",
              "    }\n",
              "\n",
              "    .dataframe thead th {\n",
              "        text-align: right;\n",
              "    }\n",
              "</style>\n",
              "<table border=\"1\" class=\"dataframe\">\n",
              "  <thead>\n",
              "    <tr style=\"text-align: right;\">\n",
              "      <th></th>\n",
              "      <th>tip_amount</th>\n",
              "      <th>mta_tax</th>\n",
              "      <th>passenger_count</th>\n",
              "      <th>surcharge</th>\n",
              "      <th>fare_amount</th>\n",
              "      <th>travel_seconds</th>\n",
              "      <th>travel_kms</th>\n",
              "    </tr>\n",
              "  </thead>\n",
              "  <tbody>\n",
              "    <tr>\n",
              "      <th>tip_amount</th>\n",
              "      <td>1.000000</td>\n",
              "      <td>-0.148205</td>\n",
              "      <td>-0.006896</td>\n",
              "      <td>-0.017410</td>\n",
              "      <td>0.627871</td>\n",
              "      <td>0.413405</td>\n",
              "      <td>0.009654</td>\n",
              "    </tr>\n",
              "    <tr>\n",
              "      <th>mta_tax</th>\n",
              "      <td>-0.148205</td>\n",
              "      <td>1.000000</td>\n",
              "      <td>0.008640</td>\n",
              "      <td>0.033567</td>\n",
              "      <td>-0.294166</td>\n",
              "      <td>-0.072841</td>\n",
              "      <td>-0.034971</td>\n",
              "    </tr>\n",
              "    <tr>\n",
              "      <th>passenger_count</th>\n",
              "      <td>-0.006896</td>\n",
              "      <td>0.008640</td>\n",
              "      <td>1.000000</td>\n",
              "      <td>0.008663</td>\n",
              "      <td>0.010326</td>\n",
              "      <td>0.015613</td>\n",
              "      <td>-0.006261</td>\n",
              "    </tr>\n",
              "    <tr>\n",
              "      <th>surcharge</th>\n",
              "      <td>-0.017410</td>\n",
              "      <td>0.033567</td>\n",
              "      <td>0.008663</td>\n",
              "      <td>1.000000</td>\n",
              "      <td>-0.042363</td>\n",
              "      <td>-0.061876</td>\n",
              "      <td>-0.002742</td>\n",
              "    </tr>\n",
              "    <tr>\n",
              "      <th>fare_amount</th>\n",
              "      <td>0.627871</td>\n",
              "      <td>-0.294166</td>\n",
              "      <td>0.010326</td>\n",
              "      <td>-0.042363</td>\n",
              "      <td>1.000000</td>\n",
              "      <td>0.801305</td>\n",
              "      <td>0.026419</td>\n",
              "    </tr>\n",
              "    <tr>\n",
              "      <th>travel_seconds</th>\n",
              "      <td>0.413405</td>\n",
              "      <td>-0.072841</td>\n",
              "      <td>0.015613</td>\n",
              "      <td>-0.061876</td>\n",
              "      <td>0.801305</td>\n",
              "      <td>1.000000</td>\n",
              "      <td>-0.017156</td>\n",
              "    </tr>\n",
              "    <tr>\n",
              "      <th>travel_kms</th>\n",
              "      <td>0.009654</td>\n",
              "      <td>-0.034971</td>\n",
              "      <td>-0.006261</td>\n",
              "      <td>-0.002742</td>\n",
              "      <td>0.026419</td>\n",
              "      <td>-0.017156</td>\n",
              "      <td>1.000000</td>\n",
              "    </tr>\n",
              "  </tbody>\n",
              "</table>\n",
              "</div>"
            ],
            "text/plain": [
              "                 tip_amount   mta_tax  passenger_count  surcharge  \\\n",
              "tip_amount         1.000000 -0.148205        -0.006896  -0.017410   \n",
              "mta_tax           -0.148205  1.000000         0.008640   0.033567   \n",
              "passenger_count   -0.006896  0.008640         1.000000   0.008663   \n",
              "surcharge         -0.017410  0.033567         0.008663   1.000000   \n",
              "fare_amount        0.627871 -0.294166         0.010326  -0.042363   \n",
              "travel_seconds     0.413405 -0.072841         0.015613  -0.061876   \n",
              "travel_kms         0.009654 -0.034971        -0.006261  -0.002742   \n",
              "\n",
              "                 fare_amount  travel_seconds  travel_kms  \n",
              "tip_amount          0.627871        0.413405    0.009654  \n",
              "mta_tax            -0.294166       -0.072841   -0.034971  \n",
              "passenger_count     0.010326        0.015613   -0.006261  \n",
              "surcharge          -0.042363       -0.061876   -0.002742  \n",
              "fare_amount         1.000000        0.801305    0.026419  \n",
              "travel_seconds      0.801305        1.000000   -0.017156  \n",
              "travel_kms          0.026419       -0.017156    1.000000  "
            ]
          },
          "metadata": {
            "tags": []
          },
          "execution_count": 61
        }
      ]
    },
    {
      "metadata": {
        "id": "UseCP9wn5VC0",
        "colab_type": "code",
        "colab": {}
      },
      "cell_type": "code",
      "source": [
        "import seaborn as sns\n",
        "import matplotlib.pyplot as plt"
      ],
      "execution_count": 0,
      "outputs": []
    },
    {
      "metadata": {
        "id": "KIwetlZR5Xzr",
        "colab_type": "code",
        "outputId": "ac4767b0-b483-4945-f97b-5fb45a1a9c46",
        "colab": {
          "base_uri": "https://localhost:8080/",
          "height": 609
        }
      },
      "cell_type": "code",
      "source": [
        "fig, ax = plt.subplots(figsize=(12,10))  \n",
        "sns.heatmap(revised_dataset[['vendors', 'tip_amount', 'mta_tax', 'passenger_count', 'rate_code',\n",
        "       'payment_type', 'surcharge', 'travel_seconds',\n",
        "       'travel_kms', 'hour', 'is_weekend', 'fare_amount']].corr(),annot=True, cmap='Blues')"
      ],
      "execution_count": 0,
      "outputs": [
        {
          "output_type": "execute_result",
          "data": {
            "text/plain": [
              "<matplotlib.axes._subplots.AxesSubplot at 0x7fef273889e8>"
            ]
          },
          "metadata": {
            "tags": []
          },
          "execution_count": 63
        },
        {
          "output_type": "display_data",
          "data": {
            "image/png": "[encoded data removed]",
            "text/plain": [
              "<Figure size 864x720 with 2 Axes>"
            ]
          },
          "metadata": {
            "tags": []
          }
        }
      ]
    },
    {
      "metadata": {
        "id": "naysRdEM5dG_",
        "colab_type": "code",
        "outputId": "c99f0f0a-8cdc-4fd7-e701-c366f514b8f3",
        "colab": {
          "base_uri": "https://localhost:8080/",
          "height": 187
        }
      },
      "cell_type": "code",
      "source": [
        "continuous_variables=[]\n",
        "for i in range(len(revised_dataset.corr().fare_amount)):\n",
        "    if revised_dataset.corr().fare_amount[i]>2/np.sqrt(revised_dataset.shape[0]):\n",
        "        continuous_variables.append(revised_dataset.corr().index[i])\n",
        "categorical_variables=['vendors','payment_type','rate_code','hour','is_weekend']\n",
        "selected_variables=continuous_variables+categorical_variables\n",
        "selected_variables"
      ],
      "execution_count": 0,
      "outputs": [
        {
          "output_type": "execute_result",
          "data": {
            "text/plain": [
              "['tip_amount',\n",
              " 'passenger_count',\n",
              " 'fare_amount',\n",
              " 'travel_seconds',\n",
              " 'travel_kms',\n",
              " 'vendors',\n",
              " 'payment_type',\n",
              " 'rate_code',\n",
              " 'hour',\n",
              " 'is_weekend']"
            ]
          },
          "metadata": {
            "tags": []
          },
          "execution_count": 64
        }
      ]
    },
    {
      "metadata": {
        "id": "kBiGkAwc5gnf",
        "colab_type": "code",
        "outputId": "5a87b154-90ce-42fc-8f2c-7b2cb42e084b",
        "colab": {
          "base_uri": "https://localhost:8080/",
          "height": 204
        }
      },
      "cell_type": "code",
      "source": [
        "data=revised_dataset[selected_variables]\n",
        "data.head()"
      ],
      "execution_count": 0,
      "outputs": [
        {
          "output_type": "execute_result",
          "data": {
            "text/html": [
              "<div>\n",
              "<style scoped>\n",
              "    .dataframe tbody tr th:only-of-type {\n",
              "        vertical-align: middle;\n",
              "    }\n",
              "\n",
              "    .dataframe tbody tr th {\n",
              "        vertical-align: top;\n",
              "    }\n",
              "\n",
              "    .dataframe thead th {\n",
              "        text-align: right;\n",
              "    }\n",
              "</style>\n",
              "<table border=\"1\" class=\"dataframe\">\n",
              "  <thead>\n",
              "    <tr style=\"text-align: right;\">\n",
              "      <th></th>\n",
              "      <th>tip_amount</th>\n",
              "      <th>passenger_count</th>\n",
              "      <th>fare_amount</th>\n",
              "      <th>travel_seconds</th>\n",
              "      <th>travel_kms</th>\n",
              "      <th>vendors</th>\n",
              "      <th>payment_type</th>\n",
              "      <th>rate_code</th>\n",
              "      <th>hour</th>\n",
              "      <th>is_weekend</th>\n",
              "    </tr>\n",
              "  </thead>\n",
              "  <tbody>\n",
              "    <tr>\n",
              "      <th>0</th>\n",
              "      <td>1.4</td>\n",
              "      <td>1</td>\n",
              "      <td>8.4</td>\n",
              "      <td>360.0</td>\n",
              "      <td>1.311173</td>\n",
              "      <td>DST000401</td>\n",
              "      <td>CRD</td>\n",
              "      <td>1</td>\n",
              "      <td>4</td>\n",
              "      <td>0</td>\n",
              "    </tr>\n",
              "    <tr>\n",
              "      <th>1</th>\n",
              "      <td>1.0</td>\n",
              "      <td>3</td>\n",
              "      <td>8.5</td>\n",
              "      <td>360.0</td>\n",
              "      <td>2.596270</td>\n",
              "      <td>DST000401</td>\n",
              "      <td>CRD</td>\n",
              "      <td>1</td>\n",
              "      <td>18</td>\n",
              "      <td>1</td>\n",
              "    </tr>\n",
              "    <tr>\n",
              "      <th>2</th>\n",
              "      <td>0.0</td>\n",
              "      <td>2</td>\n",
              "      <td>7.0</td>\n",
              "      <td>360.0</td>\n",
              "      <td>1.538152</td>\n",
              "      <td>DST000401</td>\n",
              "      <td>CSH</td>\n",
              "      <td>1</td>\n",
              "      <td>8</td>\n",
              "      <td>0</td>\n",
              "    </tr>\n",
              "    <tr>\n",
              "      <th>3</th>\n",
              "      <td>1.8</td>\n",
              "      <td>2</td>\n",
              "      <td>11.3</td>\n",
              "      <td>720.0</td>\n",
              "      <td>1.598931</td>\n",
              "      <td>DST000532</td>\n",
              "      <td>CRD</td>\n",
              "      <td>1</td>\n",
              "      <td>9</td>\n",
              "      <td>0</td>\n",
              "    </tr>\n",
              "    <tr>\n",
              "      <th>4</th>\n",
              "      <td>0.0</td>\n",
              "      <td>1</td>\n",
              "      <td>10.0</td>\n",
              "      <td>840.0</td>\n",
              "      <td>1.626473</td>\n",
              "      <td>DST000401</td>\n",
              "      <td>CSH</td>\n",
              "      <td>1</td>\n",
              "      <td>13</td>\n",
              "      <td>0</td>\n",
              "    </tr>\n",
              "  </tbody>\n",
              "</table>\n",
              "</div>"
            ],
            "text/plain": [
              "   tip_amount  passenger_count  fare_amount  travel_seconds  travel_kms  \\\n",
              "0         1.4                1          8.4           360.0    1.311173   \n",
              "1         1.0                3          8.5           360.0    2.596270   \n",
              "2         0.0                2          7.0           360.0    1.538152   \n",
              "3         1.8                2         11.3           720.0    1.598931   \n",
              "4         0.0                1         10.0           840.0    1.626473   \n",
              "\n",
              "     vendors payment_type rate_code hour is_weekend  \n",
              "0  DST000401          CRD         1    4          0  \n",
              "1  DST000401          CRD         1   18          1  \n",
              "2  DST000401          CSH         1    8          0  \n",
              "3  DST000532          CRD         1    9          0  \n",
              "4  DST000401          CSH         1   13          0  "
            ]
          },
          "metadata": {
            "tags": []
          },
          "execution_count": 65
        }
      ]
    },
    {
      "metadata": {
        "id": "ZZrixupF5xkv",
        "colab_type": "code",
        "outputId": "f8929bbf-ff96-47fd-b66a-371eb4419447",
        "colab": {
          "base_uri": "https://localhost:8080/",
          "height": 364
        }
      },
      "cell_type": "code",
      "source": [
        "data.boxplot()"
      ],
      "execution_count": 0,
      "outputs": [
        {
          "output_type": "execute_result",
          "data": {
            "text/plain": [
              "<matplotlib.axes._subplots.AxesSubplot at 0x7fef1b7be240>"
            ]
          },
          "metadata": {
            "tags": []
          },
          "execution_count": 66
        },
        {
          "output_type": "display_data",
          "data": {
            "image/png": "[encoded data removed]",
            "text/plain": [
              "<Figure size 576x396 with 1 Axes>"
            ]
          },
          "metadata": {
            "tags": []
          }
        }
      ]
    },
    {
      "metadata": {
        "id": "QumjvKjP59q5",
        "colab_type": "code",
        "outputId": "0ec54937-e6a0-411d-ffc5-d1c0136f62f5",
        "colab": {
          "base_uri": "https://localhost:8080/",
          "height": 1017
        }
      },
      "cell_type": "code",
      "source": [
        "data.hist(figsize=(25,15))"
      ],
      "execution_count": 0,
      "outputs": [
        {
          "output_type": "execute_result",
          "data": {
            "text/plain": [
              "array([[<matplotlib.axes._subplots.AxesSubplot object at 0x7fef1da46978>,\n",
              "        <matplotlib.axes._subplots.AxesSubplot object at 0x7fef24576cc0>],\n",
              "       [<matplotlib.axes._subplots.AxesSubplot object at 0x7fef25c61358>,\n",
              "        <matplotlib.axes._subplots.AxesSubplot object at 0x7fef1adaf9b0>],\n",
              "       [<matplotlib.axes._subplots.AxesSubplot object at 0x7fef201cf048>,\n",
              "        <matplotlib.axes._subplots.AxesSubplot object at 0x7fef1b9ad6a0>]],\n",
              "      dtype=object)"
            ]
          },
          "metadata": {
            "tags": []
          },
          "execution_count": 67
        },
        {
          "output_type": "display_data",
          "data": {
            "image/png": "[encoded data removed]",
            "text/plain": [
              "<Figure size 1800x1080 with 6 Axes>"
            ]
          },
          "metadata": {
            "tags": []
          }
        }
      ]
    },
    {
      "metadata": {
        "id": "vRYy-EBy6LY-",
        "colab_type": "code",
        "outputId": "14c14dab-3f84-4dc7-af2f-b5a8db85e0a5",
        "colab": {
          "base_uri": "https://localhost:8080/",
          "height": 1638
        }
      },
      "cell_type": "code",
      "source": [
        "sns.pairplot(data=data,y_vars=['tip_amount','passenger_count','travel_seconds','travel_kms','vendors','payment_type','rate_code','is_weekend','hour'],x_vars=['fare_amount'])"
      ],
      "execution_count": 0,
      "outputs": [
        {
          "output_type": "execute_result",
          "data": {
            "text/plain": [
              "<seaborn.axisgrid.PairGrid at 0x7fef1c5bf240>"
            ]
          },
          "metadata": {
            "tags": []
          },
          "execution_count": 68
        },
        {
          "output_type": "display_data",
          "data": {
            "image/png": "[encoded data removed]",
            "text/plain": [
              "<Figure size 180x1620 with 9 Axes>"
            ]
          },
          "metadata": {
            "tags": []
          }
        }
      ]
    },
    {
      "metadata": {
        "id": "TpDN0dEDSEEE",
        "colab_type": "code",
        "outputId": "7035cf03-41b4-4761-abbf-8c94439294a0",
        "colab": {
          "base_uri": "https://localhost:8080/",
          "height": 429
        }
      },
      "cell_type": "code",
      "source": [
        "sns.distplot(data['fare_amount'])"
      ],
      "execution_count": 0,
      "outputs": [
        {
          "output_type": "stream",
          "text": [
            "/usr/local/lib/python3.6/dist-packages/matplotlib/axes/_axes.py:6521: MatplotlibDeprecationWarning: \n",
            "The 'normed' kwarg was deprecated in Matplotlib 2.1 and will be removed in 3.1. Use 'density' instead.\n",
            "  alternative=\"'density'\", removal=\"3.1\")\n"
          ],
          "name": "stderr"
        },
        {
          "output_type": "execute_result",
          "data": {
            "text/plain": [
              "<matplotlib.axes._subplots.AxesSubplot at 0x7fef27662e80>"
            ]
          },
          "metadata": {
            "tags": []
          },
          "execution_count": 69
        },
        {
          "output_type": "display_data",
          "data": {
            "image/png": "[encoded data removed]",
            "text/plain": [
              "<Figure size 576x396 with 1 Axes>"
            ]
          },
          "metadata": {
            "tags": []
          }
        }
      ]
    },
    {
      "metadata": {
        "id": "lltrYzgT6q6m",
        "colab_type": "code",
        "outputId": "8717860f-8c5a-4520-c699-0c9ef12d7abc",
        "colab": {
          "base_uri": "https://localhost:8080/",
          "height": 272
        }
      },
      "cell_type": "code",
      "source": [
        "data.info()"
      ],
      "execution_count": 0,
      "outputs": [
        {
          "output_type": "stream",
          "text": [
            "<class 'pandas.core.frame.DataFrame'>\n",
            "Int64Index: 1022737 entries, 0 to 1048574\n",
            "Data columns (total 10 columns):\n",
            "tip_amount         1022737 non-null float64\n",
            "passenger_count    1022737 non-null int64\n",
            "fare_amount        1022737 non-null float64\n",
            "travel_seconds     1022737 non-null float64\n",
            "travel_kms         1022737 non-null float64\n",
            "vendors            1022737 non-null category\n",
            "payment_type       1022737 non-null category\n",
            "rate_code          1022737 non-null category\n",
            "hour               1022737 non-null category\n",
            "is_weekend         1022737 non-null category\n",
            "dtypes: category(5), float64(4), int64(1)\n",
            "memory usage: 91.7 MB\n"
          ],
          "name": "stdout"
        }
      ]
    },
    {
      "metadata": {
        "id": "p6bbO9AK63p_",
        "colab_type": "code",
        "outputId": "9ee410e7-6b53-4ec6-f7cc-133f819e6aab",
        "colab": {
          "base_uri": "https://localhost:8080/",
          "height": 34
        }
      },
      "cell_type": "code",
      "source": [
        "dict_vendors={}\n",
        "count=0\n",
        "for i in data['vendors'].unique():\n",
        "    dict_vendors[count]=i\n",
        "    count+=1\n",
        "dict_vendors"
      ],
      "execution_count": 0,
      "outputs": [
        {
          "output_type": "execute_result",
          "data": {
            "text/plain": [
              "{0: 'DST000401', 1: 'DST000532'}"
            ]
          },
          "metadata": {
            "tags": []
          },
          "execution_count": 71
        }
      ]
    },
    {
      "metadata": {
        "id": "ZpZTCNEIrW2z",
        "colab_type": "code",
        "outputId": "d84b4213-be65-4c63-dfc3-38ff7189ea46",
        "colab": {
          "base_uri": "https://localhost:8080/",
          "height": 119
        }
      },
      "cell_type": "code",
      "source": [
        "data['vendors']=data['vendors'].cat.codes"
      ],
      "execution_count": 0,
      "outputs": [
        {
          "output_type": "stream",
          "text": [
            "/usr/local/lib/python3.6/dist-packages/ipykernel_launcher.py:1: SettingWithCopyWarning: \n",
            "A value is trying to be set on a copy of a slice from a DataFrame.\n",
            "Try using .loc[row_indexer,col_indexer] = value instead\n",
            "\n",
            "See the caveats in the documentation: http://pandas.pydata.org/pandas-docs/stable/indexing.html#indexing-view-versus-copy\n",
            "  \"\"\"Entry point for launching an IPython kernel.\n"
          ],
          "name": "stderr"
        }
      ]
    },
    {
      "metadata": {
        "id": "avYTE3f-7Irm",
        "colab_type": "code",
        "outputId": "9bbf3d68-b2f7-4206-e2f4-362642cb84cd",
        "colab": {
          "base_uri": "https://localhost:8080/",
          "height": 204
        }
      },
      "cell_type": "code",
      "source": [
        "data.head()"
      ],
      "execution_count": 0,
      "outputs": [
        {
          "output_type": "execute_result",
          "data": {
            "text/html": [
              "<div>\n",
              "<style scoped>\n",
              "    .dataframe tbody tr th:only-of-type {\n",
              "        vertical-align: middle;\n",
              "    }\n",
              "\n",
              "    .dataframe tbody tr th {\n",
              "        vertical-align: top;\n",
              "    }\n",
              "\n",
              "    .dataframe thead th {\n",
              "        text-align: right;\n",
              "    }\n",
              "</style>\n",
              "<table border=\"1\" class=\"dataframe\">\n",
              "  <thead>\n",
              "    <tr style=\"text-align: right;\">\n",
              "      <th></th>\n",
              "      <th>tip_amount</th>\n",
              "      <th>passenger_count</th>\n",
              "      <th>fare_amount</th>\n",
              "      <th>travel_seconds</th>\n",
              "      <th>travel_kms</th>\n",
              "      <th>vendors</th>\n",
              "      <th>payment_type</th>\n",
              "      <th>rate_code</th>\n",
              "      <th>hour</th>\n",
              "      <th>is_weekend</th>\n",
              "    </tr>\n",
              "  </thead>\n",
              "  <tbody>\n",
              "    <tr>\n",
              "      <th>0</th>\n",
              "      <td>1.4</td>\n",
              "      <td>1</td>\n",
              "      <td>8.4</td>\n",
              "      <td>360.0</td>\n",
              "      <td>1.311173</td>\n",
              "      <td>0</td>\n",
              "      <td>CRD</td>\n",
              "      <td>1</td>\n",
              "      <td>4</td>\n",
              "      <td>0</td>\n",
              "    </tr>\n",
              "    <tr>\n",
              "      <th>1</th>\n",
              "      <td>1.0</td>\n",
              "      <td>3</td>\n",
              "      <td>8.5</td>\n",
              "      <td>360.0</td>\n",
              "      <td>2.596270</td>\n",
              "      <td>0</td>\n",
              "      <td>CRD</td>\n",
              "      <td>1</td>\n",
              "      <td>18</td>\n",
              "      <td>1</td>\n",
              "    </tr>\n",
              "    <tr>\n",
              "      <th>2</th>\n",
              "      <td>0.0</td>\n",
              "      <td>2</td>\n",
              "      <td>7.0</td>\n",
              "      <td>360.0</td>\n",
              "      <td>1.538152</td>\n",
              "      <td>0</td>\n",
              "      <td>CSH</td>\n",
              "      <td>1</td>\n",
              "      <td>8</td>\n",
              "      <td>0</td>\n",
              "    </tr>\n",
              "    <tr>\n",
              "      <th>3</th>\n",
              "      <td>1.8</td>\n",
              "      <td>2</td>\n",
              "      <td>11.3</td>\n",
              "      <td>720.0</td>\n",
              "      <td>1.598931</td>\n",
              "      <td>1</td>\n",
              "      <td>CRD</td>\n",
              "      <td>1</td>\n",
              "      <td>9</td>\n",
              "      <td>0</td>\n",
              "    </tr>\n",
              "    <tr>\n",
              "      <th>4</th>\n",
              "      <td>0.0</td>\n",
              "      <td>1</td>\n",
              "      <td>10.0</td>\n",
              "      <td>840.0</td>\n",
              "      <td>1.626473</td>\n",
              "      <td>0</td>\n",
              "      <td>CSH</td>\n",
              "      <td>1</td>\n",
              "      <td>13</td>\n",
              "      <td>0</td>\n",
              "    </tr>\n",
              "  </tbody>\n",
              "</table>\n",
              "</div>"
            ],
            "text/plain": [
              "   tip_amount  passenger_count  fare_amount  travel_seconds  travel_kms  \\\n",
              "0         1.4                1          8.4           360.0    1.311173   \n",
              "1         1.0                3          8.5           360.0    2.596270   \n",
              "2         0.0                2          7.0           360.0    1.538152   \n",
              "3         1.8                2         11.3           720.0    1.598931   \n",
              "4         0.0                1         10.0           840.0    1.626473   \n",
              "\n",
              "   vendors payment_type rate_code hour is_weekend  \n",
              "0        0          CRD         1    4          0  \n",
              "1        0          CRD         1   18          1  \n",
              "2        0          CSH         1    8          0  \n",
              "3        1          CRD         1    9          0  \n",
              "4        0          CSH         1   13          0  "
            ]
          },
          "metadata": {
            "tags": []
          },
          "execution_count": 73
        }
      ]
    },
    {
      "metadata": {
        "id": "rnyt5SFs7Ug-",
        "colab_type": "code",
        "outputId": "d6e6fc89-b2db-4d47-c323-208244f5be81",
        "colab": {
          "base_uri": "https://localhost:8080/",
          "height": 224
        }
      },
      "cell_type": "code",
      "source": [
        "en_data=pd.merge(data,pd.get_dummies(data[['payment_type','rate_code','hour']],columns=['payment_type','rate_code','hour']), left_index=True, right_index=True)\n",
        "en_data=en_data.drop(['rate_code','payment_type','hour'],axis=1)\n",
        "en_data.head()"
      ],
      "execution_count": 0,
      "outputs": [
        {
          "output_type": "execute_result",
          "data": {
            "text/html": [
              "<div>\n",
              "<style scoped>\n",
              "    .dataframe tbody tr th:only-of-type {\n",
              "        vertical-align: middle;\n",
              "    }\n",
              "\n",
              "    .dataframe tbody tr th {\n",
              "        vertical-align: top;\n",
              "    }\n",
              "\n",
              "    .dataframe thead th {\n",
              "        text-align: right;\n",
              "    }\n",
              "</style>\n",
              "<table border=\"1\" class=\"dataframe\">\n",
              "  <thead>\n",
              "    <tr style=\"text-align: right;\">\n",
              "      <th></th>\n",
              "      <th>tip_amount</th>\n",
              "      <th>passenger_count</th>\n",
              "      <th>fare_amount</th>\n",
              "      <th>travel_seconds</th>\n",
              "      <th>travel_kms</th>\n",
              "      <th>vendors</th>\n",
              "      <th>is_weekend</th>\n",
              "      <th>payment_type_CRD</th>\n",
              "      <th>payment_type_CSH</th>\n",
              "      <th>payment_type_DIS</th>\n",
              "      <th>payment_type_NOC</th>\n",
              "      <th>rate_code_0</th>\n",
              "      <th>rate_code_1</th>\n",
              "      <th>rate_code_2</th>\n",
              "      <th>rate_code_3</th>\n",
              "      <th>rate_code_4</th>\n",
              "      <th>rate_code_5</th>\n",
              "      <th>rate_code_6</th>\n",
              "      <th>rate_code_7</th>\n",
              "      <th>hour_0</th>\n",
              "      <th>hour_1</th>\n",
              "      <th>hour_2</th>\n",
              "      <th>hour_3</th>\n",
              "      <th>hour_4</th>\n",
              "      <th>hour_5</th>\n",
              "      <th>hour_6</th>\n",
              "      <th>hour_7</th>\n",
              "      <th>hour_8</th>\n",
              "      <th>hour_9</th>\n",
              "      <th>hour_10</th>\n",
              "      <th>hour_11</th>\n",
              "      <th>hour_12</th>\n",
              "      <th>hour_13</th>\n",
              "      <th>hour_14</th>\n",
              "      <th>hour_15</th>\n",
              "      <th>hour_16</th>\n",
              "      <th>hour_17</th>\n",
              "      <th>hour_18</th>\n",
              "      <th>hour_19</th>\n",
              "      <th>hour_20</th>\n",
              "      <th>hour_21</th>\n",
              "      <th>hour_22</th>\n",
              "      <th>hour_23</th>\n",
              "    </tr>\n",
              "  </thead>\n",
              "  <tbody>\n",
              "    <tr>\n",
              "      <th>0</th>\n",
              "      <td>1.4</td>\n",
              "      <td>1</td>\n",
              "      <td>8.4</td>\n",
              "      <td>360.0</td>\n",
              "      <td>1.311173</td>\n",
              "      <td>0</td>\n",
              "      <td>0</td>\n",
              "      <td>1</td>\n",
              "      <td>0</td>\n",
              "      <td>0</td>\n",
              "      <td>0</td>\n",
              "      <td>0</td>\n",
              "      <td>1</td>\n",
              "      <td>0</td>\n",
              "      <td>0</td>\n",
              "      <td>0</td>\n",
              "      <td>0</td>\n",
              "      <td>0</td>\n",
              "      <td>0</td>\n",
              "      <td>0</td>\n",
              "      <td>0</td>\n",
              "      <td>0</td>\n",
              "      <td>0</td>\n",
              "      <td>1</td>\n",
              "      <td>0</td>\n",
              "      <td>0</td>\n",
              "      <td>0</td>\n",
              "      <td>0</td>\n",
              "      <td>0</td>\n",
              "      <td>0</td>\n",
              "      <td>0</td>\n",
              "      <td>0</td>\n",
              "      <td>0</td>\n",
              "      <td>0</td>\n",
              "      <td>0</td>\n",
              "      <td>0</td>\n",
              "      <td>0</td>\n",
              "      <td>0</td>\n",
              "      <td>0</td>\n",
              "      <td>0</td>\n",
              "      <td>0</td>\n",
              "      <td>0</td>\n",
              "      <td>0</td>\n",
              "    </tr>\n",
              "    <tr>\n",
              "      <th>1</th>\n",
              "      <td>1.0</td>\n",
              "      <td>3</td>\n",
              "      <td>8.5</td>\n",
              "      <td>360.0</td>\n",
              "      <td>2.596270</td>\n",
              "      <td>0</td>\n",
              "      <td>1</td>\n",
              "      <td>1</td>\n",
              "      <td>0</td>\n",
              "      <td>0</td>\n",
              "      <td>0</td>\n",
              "      <td>0</td>\n",
              "      <td>1</td>\n",
              "      <td>0</td>\n",
              "      <td>0</td>\n",
              "      <td>0</td>\n",
              "      <td>0</td>\n",
              "      <td>0</td>\n",
              "      <td>0</td>\n",
              "      <td>0</td>\n",
              "      <td>0</td>\n",
              "      <td>0</td>\n",
              "      <td>0</td>\n",
              "      <td>0</td>\n",
              "      <td>0</td>\n",
              "      <td>0</td>\n",
              "      <td>0</td>\n",
              "      <td>0</td>\n",
              "      <td>0</td>\n",
              "      <td>0</td>\n",
              "      <td>0</td>\n",
              "      <td>0</td>\n",
              "      <td>0</td>\n",
              "      <td>0</td>\n",
              "      <td>0</td>\n",
              "      <td>0</td>\n",
              "      <td>0</td>\n",
              "      <td>1</td>\n",
              "      <td>0</td>\n",
              "      <td>0</td>\n",
              "      <td>0</td>\n",
              "      <td>0</td>\n",
              "      <td>0</td>\n",
              "    </tr>\n",
              "    <tr>\n",
              "      <th>2</th>\n",
              "      <td>0.0</td>\n",
              "      <td>2</td>\n",
              "      <td>7.0</td>\n",
              "      <td>360.0</td>\n",
              "      <td>1.538152</td>\n",
              "      <td>0</td>\n",
              "      <td>0</td>\n",
              "      <td>0</td>\n",
              "      <td>1</td>\n",
              "      <td>0</td>\n",
              "      <td>0</td>\n",
              "      <td>0</td>\n",
              "      <td>1</td>\n",
              "      <td>0</td>\n",
              "      <td>0</td>\n",
              "      <td>0</td>\n",
              "      <td>0</td>\n",
              "      <td>0</td>\n",
              "      <td>0</td>\n",
              "      <td>0</td>\n",
              "      <td>0</td>\n",
              "      <td>0</td>\n",
              "      <td>0</td>\n",
              "      <td>0</td>\n",
              "      <td>0</td>\n",
              "      <td>0</td>\n",
              "      <td>0</td>\n",
              "      <td>1</td>\n",
              "      <td>0</td>\n",
              "      <td>0</td>\n",
              "      <td>0</td>\n",
              "      <td>0</td>\n",
              "      <td>0</td>\n",
              "      <td>0</td>\n",
              "      <td>0</td>\n",
              "      <td>0</td>\n",
              "      <td>0</td>\n",
              "      <td>0</td>\n",
              "      <td>0</td>\n",
              "      <td>0</td>\n",
              "      <td>0</td>\n",
              "      <td>0</td>\n",
              "      <td>0</td>\n",
              "    </tr>\n",
              "    <tr>\n",
              "      <th>3</th>\n",
              "      <td>1.8</td>\n",
              "      <td>2</td>\n",
              "      <td>11.3</td>\n",
              "      <td>720.0</td>\n",
              "      <td>1.598931</td>\n",
              "      <td>1</td>\n",
              "      <td>0</td>\n",
              "      <td>1</td>\n",
              "      <td>0</td>\n",
              "      <td>0</td>\n",
              "      <td>0</td>\n",
              "      <td>0</td>\n",
              "      <td>1</td>\n",
              "      <td>0</td>\n",
              "      <td>0</td>\n",
              "      <td>0</td>\n",
              "      <td>0</td>\n",
              "      <td>0</td>\n",
              "      <td>0</td>\n",
              "      <td>0</td>\n",
              "      <td>0</td>\n",
              "      <td>0</td>\n",
              "      <td>0</td>\n",
              "      <td>0</td>\n",
              "      <td>0</td>\n",
              "      <td>0</td>\n",
              "      <td>0</td>\n",
              "      <td>0</td>\n",
              "      <td>1</td>\n",
              "      <td>0</td>\n",
              "      <td>0</td>\n",
              "      <td>0</td>\n",
              "      <td>0</td>\n",
              "      <td>0</td>\n",
              "      <td>0</td>\n",
              "      <td>0</td>\n",
              "      <td>0</td>\n",
              "      <td>0</td>\n",
              "      <td>0</td>\n",
              "      <td>0</td>\n",
              "      <td>0</td>\n",
              "      <td>0</td>\n",
              "      <td>0</td>\n",
              "    </tr>\n",
              "    <tr>\n",
              "      <th>4</th>\n",
              "      <td>0.0</td>\n",
              "      <td>1</td>\n",
              "      <td>10.0</td>\n",
              "      <td>840.0</td>\n",
              "      <td>1.626473</td>\n",
              "      <td>0</td>\n",
              "      <td>0</td>\n",
              "      <td>0</td>\n",
              "      <td>1</td>\n",
              "      <td>0</td>\n",
              "      <td>0</td>\n",
              "      <td>0</td>\n",
              "      <td>1</td>\n",
              "      <td>0</td>\n",
              "      <td>0</td>\n",
              "      <td>0</td>\n",
              "      <td>0</td>\n",
              "      <td>0</td>\n",
              "      <td>0</td>\n",
              "      <td>0</td>\n",
              "      <td>0</td>\n",
              "      <td>0</td>\n",
              "      <td>0</td>\n",
              "      <td>0</td>\n",
              "      <td>0</td>\n",
              "      <td>0</td>\n",
              "      <td>0</td>\n",
              "      <td>0</td>\n",
              "      <td>0</td>\n",
              "      <td>0</td>\n",
              "      <td>0</td>\n",
              "      <td>0</td>\n",
              "      <td>1</td>\n",
              "      <td>0</td>\n",
              "      <td>0</td>\n",
              "      <td>0</td>\n",
              "      <td>0</td>\n",
              "      <td>0</td>\n",
              "      <td>0</td>\n",
              "      <td>0</td>\n",
              "      <td>0</td>\n",
              "      <td>0</td>\n",
              "      <td>0</td>\n",
              "    </tr>\n",
              "  </tbody>\n",
              "</table>\n",
              "</div>"
            ],
            "text/plain": [
              "   tip_amount  passenger_count  fare_amount  travel_seconds  travel_kms  \\\n",
              "0         1.4                1          8.4           360.0    1.311173   \n",
              "1         1.0                3          8.5           360.0    2.596270   \n",
              "2         0.0                2          7.0           360.0    1.538152   \n",
              "3         1.8                2         11.3           720.0    1.598931   \n",
              "4         0.0                1         10.0           840.0    1.626473   \n",
              "\n",
              "   vendors is_weekend  payment_type_CRD  payment_type_CSH  payment_type_DIS  \\\n",
              "0        0          0                 1                 0                 0   \n",
              "1        0          1                 1                 0                 0   \n",
              "2        0          0                 0                 1                 0   \n",
              "3        1          0                 1                 0                 0   \n",
              "4        0          0                 0                 1                 0   \n",
              "\n",
              "   payment_type_NOC  rate_code_0  rate_code_1  rate_code_2  rate_code_3  \\\n",
              "0                 0            0            1            0            0   \n",
              "1                 0            0            1            0            0   \n",
              "2                 0            0            1            0            0   \n",
              "3                 0            0            1            0            0   \n",
              "4                 0            0            1            0            0   \n",
              "\n",
              "   rate_code_4  rate_code_5  rate_code_6  rate_code_7  hour_0  hour_1  hour_2  \\\n",
              "0            0            0            0            0       0       0       0   \n",
              "1            0            0            0            0       0       0       0   \n",
              "2            0            0            0            0       0       0       0   \n",
              "3            0            0            0            0       0       0       0   \n",
              "4            0            0            0            0       0       0       0   \n",
              "\n",
              "   hour_3  hour_4  hour_5  hour_6  hour_7  hour_8  hour_9  hour_10  hour_11  \\\n",
              "0       0       1       0       0       0       0       0        0        0   \n",
              "1       0       0       0       0       0       0       0        0        0   \n",
              "2       0       0       0       0       0       1       0        0        0   \n",
              "3       0       0       0       0       0       0       1        0        0   \n",
              "4       0       0       0       0       0       0       0        0        0   \n",
              "\n",
              "   hour_12  hour_13  hour_14  hour_15  hour_16  hour_17  hour_18  hour_19  \\\n",
              "0        0        0        0        0        0        0        0        0   \n",
              "1        0        0        0        0        0        0        1        0   \n",
              "2        0        0        0        0        0        0        0        0   \n",
              "3        0        0        0        0        0        0        0        0   \n",
              "4        0        1        0        0        0        0        0        0   \n",
              "\n",
              "   hour_20  hour_21  hour_22  hour_23  \n",
              "0        0        0        0        0  \n",
              "1        0        0        0        0  \n",
              "2        0        0        0        0  \n",
              "3        0        0        0        0  \n",
              "4        0        0        0        0  "
            ]
          },
          "metadata": {
            "tags": []
          },
          "execution_count": 74
        }
      ]
    },
    {
      "metadata": {
        "id": "pcZSOaTc7lZw",
        "colab_type": "code",
        "colab": {}
      },
      "cell_type": "code",
      "source": [
        "X = en_data.drop(['fare_amount'],axis=1)\n",
        "y = en_data['fare_amount']"
      ],
      "execution_count": 0,
      "outputs": []
    },
    {
      "metadata": {
        "id": "4c-n4GDz8Sd_",
        "colab_type": "code",
        "colab": {}
      },
      "cell_type": "code",
      "source": [
        "from sklearn.model_selection import train_test_split"
      ],
      "execution_count": 0,
      "outputs": []
    },
    {
      "metadata": {
        "id": "kUUg8lQB9E0Q",
        "colab_type": "code",
        "colab": {}
      },
      "cell_type": "code",
      "source": [
        "X_train, X_test, y_train, y_test = train_test_split(X, y, test_size = 0.2, random_state = 0)"
      ],
      "execution_count": 0,
      "outputs": []
    },
    {
      "metadata": {
        "id": "nm3LzYYk9H5y",
        "colab_type": "code",
        "outputId": "557052dd-1bed-41cd-cc5c-f803bd6f26f4",
        "colab": {
          "base_uri": "https://localhost:8080/",
          "height": 51
        }
      },
      "cell_type": "code",
      "source": [
        "from sklearn.linear_model import LinearRegression\n",
        "mymodel = LinearRegression()\n",
        "mymodel.fit(X_train, y_train)"
      ],
      "execution_count": 0,
      "outputs": [
        {
          "output_type": "execute_result",
          "data": {
            "text/plain": [
              "LinearRegression(copy_X=True, fit_intercept=True, n_jobs=None,\n",
              "         normalize=False)"
            ]
          },
          "metadata": {
            "tags": []
          },
          "execution_count": 78
        }
      ]
    },
    {
      "metadata": {
        "id": "HTts2M999LHX",
        "colab_type": "code",
        "outputId": "756d97a5-10e7-4e4d-9ec8-d1eb3d4fd44b",
        "colab": {
          "base_uri": "https://localhost:8080/",
          "height": 71
        }
      },
      "cell_type": "code",
      "source": [
        "print('intercept: ',mymodel.intercept_)\n",
        "print(list(zip(X.columns,mymodel.coef_)))"
      ],
      "execution_count": 0,
      "outputs": [
        {
          "output_type": "stream",
          "text": [
            "intercept:  21.08668393763914\n",
            "[('tip_amount', 1.7129452243669472), ('passenger_count', 0.0077474667332938195), ('travel_seconds', 0.011823879300261006), ('travel_kms', 0.0002914235309243599), ('vendors', 0.17804954456503358), ('is_weekend', -0.25378569908255155), ('payment_type_CRD', -0.27029121569207776), ('payment_type_CSH', 0.6389636440405996), ('payment_type_DIS', 0.1877768957054609), ('payment_type_NOC', -0.5564493241437708), ('rate_code_0', -16.93464387246208), ('rate_code_1', -17.966131937556167), ('rate_code_2', 2.127976160453978), ('rate_code_3', 25.5904885826853), ('rate_code_4', 15.849730655002885), ('rate_code_5', 32.775332723732866), ('rate_code_6', -21.450338039753614), ('rate_code_7', -19.99241427208361), ('hour_0', 0.939588163228214), ('hour_1', 1.0796574699054273), ('hour_2', 1.3419644569533515), ('hour_3', 1.754390032712509), ('hour_4', 2.654770164145305), ('hour_5', 3.296092004117986), ('hour_6', 1.0315066753811963), ('hour_7', -0.36529867715175846), ('hour_8', -1.214482851833022), ('hour_9', -1.2342458499830014), ('hour_10', -1.193778781593863), ('hour_11', -1.1998506054943596), ('hour_12', -1.273043509086359), ('hour_13', -1.2203484005633307), ('hour_14', -1.3756391493883058), ('hour_15', -1.560682418658238), ('hour_16', -0.7553767368384273), ('hour_17', -0.811663149719402), ('hour_18', -0.716578684885481), ('hour_19', -0.34871174993142406), ('hour_20', -0.1109242768867363), ('hour_21', 0.22936698953063966), ('hour_22', 0.39789251241379936), ('hour_23', 0.6553963736340972)]\n"
          ],
          "name": "stdout"
        }
      ]
    },
    {
      "metadata": {
        "id": "sMFlEPzf9Z-a",
        "colab_type": "code",
        "outputId": "fc702d0f-a515-4c9a-80bb-9713c591b546",
        "colab": {
          "base_uri": "https://localhost:8080/",
          "height": 460
        }
      },
      "cell_type": "code",
      "source": [
        "coef = pd.Series(mymodel.coef_,X_train.columns).sort_values()\n",
        "coef.plot(kind='bar', title='Modal Coefficients')"
      ],
      "execution_count": 0,
      "outputs": [
        {
          "output_type": "execute_result",
          "data": {
            "text/plain": [
              "<matplotlib.axes._subplots.AxesSubplot at 0x7fef277fe550>"
            ]
          },
          "metadata": {
            "tags": []
          },
          "execution_count": 80
        },
        {
          "output_type": "display_data",
          "data": {
            "image/png": "[encoded data removed]",
            "text/plain": [
              "<Figure size 576x396 with 1 Axes>"
            ]
          },
          "metadata": {
            "tags": []
          }
        }
      ]
    },
    {
      "metadata": {
        "id": "LiJ4RShUEUaf",
        "colab_type": "code",
        "outputId": "5c50cc25-7eca-40da-8f6c-e9ffaee4178e",
        "colab": {
          "base_uri": "https://localhost:8080/",
          "height": 406
        }
      },
      "cell_type": "code",
      "source": [
        "hour_coef = pd.Series(mymodel.coef_[-24:],X_train.columns[-24:])\n",
        "hour_coef.plot(kind='bar', title='Impact of hour (of the day) on Fare Amount')"
      ],
      "execution_count": 0,
      "outputs": [
        {
          "output_type": "execute_result",
          "data": {
            "text/plain": [
              "<matplotlib.axes._subplots.AxesSubplot at 0x7fef27743898>"
            ]
          },
          "metadata": {
            "tags": []
          },
          "execution_count": 81
        },
        {
          "output_type": "display_data",
          "data": {
            "image/png": "[encoded data removed]",
            "text/plain": [
              "<Figure size 576x396 with 1 Axes>"
            ]
          },
          "metadata": {
            "tags": []
          }
        }
      ]
    },
    {
      "metadata": {
        "id": "fxta68iR9zhe",
        "colab_type": "code",
        "outputId": "b170f616-1bb5-4c3f-d114-edf9e769d279",
        "colab": {
          "base_uri": "https://localhost:8080/",
          "height": 3209
        }
      },
      "cell_type": "code",
      "source": [
        "y_pred = mymodel.predict(X_test)\n",
        "actvspred=pd.DataFrame(data={'actual':y_test,'predicted':y_pred})\n",
        "actvspred"
      ],
      "execution_count": 0,
      "outputs": [
        {
          "output_type": "execute_result",
          "data": {
            "text/html": [
              "<div>\n",
              "<style scoped>\n",
              "    .dataframe tbody tr th:only-of-type {\n",
              "        vertical-align: middle;\n",
              "    }\n",
              "\n",
              "    .dataframe tbody tr th {\n",
              "        vertical-align: top;\n",
              "    }\n",
              "\n",
              "    .dataframe thead th {\n",
              "        text-align: right;\n",
              "    }\n",
              "</style>\n",
              "<table border=\"1\" class=\"dataframe\">\n",
              "  <thead>\n",
              "    <tr style=\"text-align: right;\">\n",
              "      <th></th>\n",
              "      <th>actual</th>\n",
              "      <th>predicted</th>\n",
              "    </tr>\n",
              "  </thead>\n",
              "  <tbody>\n",
              "    <tr>\n",
              "      <th>161883</th>\n",
              "      <td>24.60</td>\n",
              "      <td>30.439042</td>\n",
              "    </tr>\n",
              "    <tr>\n",
              "      <th>589731</th>\n",
              "      <td>9.00</td>\n",
              "      <td>8.772822</td>\n",
              "    </tr>\n",
              "    <tr>\n",
              "      <th>862092</th>\n",
              "      <td>13.75</td>\n",
              "      <td>16.976197</td>\n",
              "    </tr>\n",
              "    <tr>\n",
              "      <th>648125</th>\n",
              "      <td>10.50</td>\n",
              "      <td>10.787183</td>\n",
              "    </tr>\n",
              "    <tr>\n",
              "      <th>442830</th>\n",
              "      <td>13.00</td>\n",
              "      <td>12.511663</td>\n",
              "    </tr>\n",
              "    <tr>\n",
              "      <th>1032371</th>\n",
              "      <td>12.60</td>\n",
              "      <td>15.903372</td>\n",
              "    </tr>\n",
              "    <tr>\n",
              "      <th>178043</th>\n",
              "      <td>7.50</td>\n",
              "      <td>8.887064</td>\n",
              "    </tr>\n",
              "    <tr>\n",
              "      <th>40317</th>\n",
              "      <td>10.00</td>\n",
              "      <td>11.091718</td>\n",
              "    </tr>\n",
              "    <tr>\n",
              "      <th>380010</th>\n",
              "      <td>14.00</td>\n",
              "      <td>14.997617</td>\n",
              "    </tr>\n",
              "    <tr>\n",
              "      <th>474489</th>\n",
              "      <td>10.70</td>\n",
              "      <td>12.256733</td>\n",
              "    </tr>\n",
              "    <tr>\n",
              "      <th>107875</th>\n",
              "      <td>5.00</td>\n",
              "      <td>5.962857</td>\n",
              "    </tr>\n",
              "    <tr>\n",
              "      <th>328474</th>\n",
              "      <td>17.00</td>\n",
              "      <td>16.624900</td>\n",
              "    </tr>\n",
              "    <tr>\n",
              "      <th>21601</th>\n",
              "      <td>15.60</td>\n",
              "      <td>15.502735</td>\n",
              "    </tr>\n",
              "    <tr>\n",
              "      <th>427607</th>\n",
              "      <td>20.00</td>\n",
              "      <td>18.225104</td>\n",
              "    </tr>\n",
              "    <tr>\n",
              "      <th>365213</th>\n",
              "      <td>5.50</td>\n",
              "      <td>5.784877</td>\n",
              "    </tr>\n",
              "    <tr>\n",
              "      <th>870533</th>\n",
              "      <td>12.00</td>\n",
              "      <td>14.103220</td>\n",
              "    </tr>\n",
              "    <tr>\n",
              "      <th>426792</th>\n",
              "      <td>24.50</td>\n",
              "      <td>23.068913</td>\n",
              "    </tr>\n",
              "    <tr>\n",
              "      <th>28213</th>\n",
              "      <td>19.10</td>\n",
              "      <td>22.425334</td>\n",
              "    </tr>\n",
              "    <tr>\n",
              "      <th>989008</th>\n",
              "      <td>4.00</td>\n",
              "      <td>4.777273</td>\n",
              "    </tr>\n",
              "    <tr>\n",
              "      <th>411157</th>\n",
              "      <td>26.30</td>\n",
              "      <td>30.635845</td>\n",
              "    </tr>\n",
              "    <tr>\n",
              "      <th>177946</th>\n",
              "      <td>17.00</td>\n",
              "      <td>17.380022</td>\n",
              "    </tr>\n",
              "    <tr>\n",
              "      <th>698427</th>\n",
              "      <td>12.00</td>\n",
              "      <td>12.679484</td>\n",
              "    </tr>\n",
              "    <tr>\n",
              "      <th>714440</th>\n",
              "      <td>5.90</td>\n",
              "      <td>6.986465</td>\n",
              "    </tr>\n",
              "    <tr>\n",
              "      <th>89075</th>\n",
              "      <td>6.50</td>\n",
              "      <td>8.572501</td>\n",
              "    </tr>\n",
              "    <tr>\n",
              "      <th>43279</th>\n",
              "      <td>10.10</td>\n",
              "      <td>11.685606</td>\n",
              "    </tr>\n",
              "    <tr>\n",
              "      <th>73342</th>\n",
              "      <td>10.00</td>\n",
              "      <td>11.769991</td>\n",
              "    </tr>\n",
              "    <tr>\n",
              "      <th>326709</th>\n",
              "      <td>6.50</td>\n",
              "      <td>7.824664</td>\n",
              "    </tr>\n",
              "    <tr>\n",
              "      <th>669130</th>\n",
              "      <td>8.50</td>\n",
              "      <td>9.256200</td>\n",
              "    </tr>\n",
              "    <tr>\n",
              "      <th>695462</th>\n",
              "      <td>9.00</td>\n",
              "      <td>10.569988</td>\n",
              "    </tr>\n",
              "    <tr>\n",
              "      <th>260826</th>\n",
              "      <td>17.50</td>\n",
              "      <td>21.202718</td>\n",
              "    </tr>\n",
              "    <tr>\n",
              "      <th>1029780</th>\n",
              "      <td>6.50</td>\n",
              "      <td>8.679195</td>\n",
              "    </tr>\n",
              "    <tr>\n",
              "      <th>71585</th>\n",
              "      <td>17.40</td>\n",
              "      <td>18.357616</td>\n",
              "    </tr>\n",
              "    <tr>\n",
              "      <th>274371</th>\n",
              "      <td>51.33</td>\n",
              "      <td>45.789348</td>\n",
              "    </tr>\n",
              "    <tr>\n",
              "      <th>769664</th>\n",
              "      <td>16.80</td>\n",
              "      <td>21.126642</td>\n",
              "    </tr>\n",
              "    <tr>\n",
              "      <th>1029275</th>\n",
              "      <td>10.50</td>\n",
              "      <td>13.387169</td>\n",
              "    </tr>\n",
              "    <tr>\n",
              "      <th>544149</th>\n",
              "      <td>7.00</td>\n",
              "      <td>9.149906</td>\n",
              "    </tr>\n",
              "    <tr>\n",
              "      <th>556804</th>\n",
              "      <td>8.30</td>\n",
              "      <td>8.445726</td>\n",
              "    </tr>\n",
              "    <tr>\n",
              "      <th>197051</th>\n",
              "      <td>7.50</td>\n",
              "      <td>7.976883</td>\n",
              "    </tr>\n",
              "    <tr>\n",
              "      <th>357185</th>\n",
              "      <td>28.20</td>\n",
              "      <td>34.004166</td>\n",
              "    </tr>\n",
              "    <tr>\n",
              "      <th>666108</th>\n",
              "      <td>12.50</td>\n",
              "      <td>13.647469</td>\n",
              "    </tr>\n",
              "    <tr>\n",
              "      <th>925558</th>\n",
              "      <td>10.00</td>\n",
              "      <td>9.745613</td>\n",
              "    </tr>\n",
              "    <tr>\n",
              "      <th>715475</th>\n",
              "      <td>8.50</td>\n",
              "      <td>9.118335</td>\n",
              "    </tr>\n",
              "    <tr>\n",
              "      <th>357237</th>\n",
              "      <td>46.66</td>\n",
              "      <td>40.323462</td>\n",
              "    </tr>\n",
              "    <tr>\n",
              "      <th>644710</th>\n",
              "      <td>7.80</td>\n",
              "      <td>9.747355</td>\n",
              "    </tr>\n",
              "    <tr>\n",
              "      <th>313798</th>\n",
              "      <td>20.30</td>\n",
              "      <td>11.543404</td>\n",
              "    </tr>\n",
              "    <tr>\n",
              "      <th>581984</th>\n",
              "      <td>8.00</td>\n",
              "      <td>9.813669</td>\n",
              "    </tr>\n",
              "    <tr>\n",
              "      <th>117080</th>\n",
              "      <td>14.00</td>\n",
              "      <td>12.557321</td>\n",
              "    </tr>\n",
              "    <tr>\n",
              "      <th>546843</th>\n",
              "      <td>34.10</td>\n",
              "      <td>40.659787</td>\n",
              "    </tr>\n",
              "    <tr>\n",
              "      <th>66900</th>\n",
              "      <td>9.37</td>\n",
              "      <td>9.091775</td>\n",
              "    </tr>\n",
              "    <tr>\n",
              "      <th>808504</th>\n",
              "      <td>45.91</td>\n",
              "      <td>34.829649</td>\n",
              "    </tr>\n",
              "    <tr>\n",
              "      <th>...</th>\n",
              "      <td>...</td>\n",
              "      <td>...</td>\n",
              "    </tr>\n",
              "    <tr>\n",
              "      <th>82348</th>\n",
              "      <td>7.50</td>\n",
              "      <td>7.675446</td>\n",
              "    </tr>\n",
              "    <tr>\n",
              "      <th>346000</th>\n",
              "      <td>9.60</td>\n",
              "      <td>9.753371</td>\n",
              "    </tr>\n",
              "    <tr>\n",
              "      <th>167236</th>\n",
              "      <td>13.50</td>\n",
              "      <td>16.947843</td>\n",
              "    </tr>\n",
              "    <tr>\n",
              "      <th>179195</th>\n",
              "      <td>5.50</td>\n",
              "      <td>6.303196</td>\n",
              "    </tr>\n",
              "    <tr>\n",
              "      <th>1043550</th>\n",
              "      <td>12.00</td>\n",
              "      <td>15.776097</td>\n",
              "    </tr>\n",
              "    <tr>\n",
              "      <th>841322</th>\n",
              "      <td>13.70</td>\n",
              "      <td>16.751681</td>\n",
              "    </tr>\n",
              "    <tr>\n",
              "      <th>294292</th>\n",
              "      <td>7.00</td>\n",
              "      <td>6.995681</td>\n",
              "    </tr>\n",
              "    <tr>\n",
              "      <th>482913</th>\n",
              "      <td>9.50</td>\n",
              "      <td>10.945838</td>\n",
              "    </tr>\n",
              "    <tr>\n",
              "      <th>648427</th>\n",
              "      <td>23.70</td>\n",
              "      <td>23.499892</td>\n",
              "    </tr>\n",
              "    <tr>\n",
              "      <th>729420</th>\n",
              "      <td>18.62</td>\n",
              "      <td>22.575035</td>\n",
              "    </tr>\n",
              "    <tr>\n",
              "      <th>1019587</th>\n",
              "      <td>10.25</td>\n",
              "      <td>9.333794</td>\n",
              "    </tr>\n",
              "    <tr>\n",
              "      <th>1008562</th>\n",
              "      <td>10.10</td>\n",
              "      <td>11.179955</td>\n",
              "    </tr>\n",
              "    <tr>\n",
              "      <th>405905</th>\n",
              "      <td>8.00</td>\n",
              "      <td>6.272020</td>\n",
              "    </tr>\n",
              "    <tr>\n",
              "      <th>331612</th>\n",
              "      <td>19.10</td>\n",
              "      <td>14.207926</td>\n",
              "    </tr>\n",
              "    <tr>\n",
              "      <th>933274</th>\n",
              "      <td>10.50</td>\n",
              "      <td>9.787967</td>\n",
              "    </tr>\n",
              "    <tr>\n",
              "      <th>685524</th>\n",
              "      <td>13.00</td>\n",
              "      <td>13.884909</td>\n",
              "    </tr>\n",
              "    <tr>\n",
              "      <th>389657</th>\n",
              "      <td>11.20</td>\n",
              "      <td>11.897807</td>\n",
              "    </tr>\n",
              "    <tr>\n",
              "      <th>364682</th>\n",
              "      <td>8.90</td>\n",
              "      <td>9.875827</td>\n",
              "    </tr>\n",
              "    <tr>\n",
              "      <th>1018124</th>\n",
              "      <td>6.50</td>\n",
              "      <td>6.824350</td>\n",
              "    </tr>\n",
              "    <tr>\n",
              "      <th>145088</th>\n",
              "      <td>5.50</td>\n",
              "      <td>5.092327</td>\n",
              "    </tr>\n",
              "    <tr>\n",
              "      <th>821614</th>\n",
              "      <td>12.50</td>\n",
              "      <td>10.275195</td>\n",
              "    </tr>\n",
              "    <tr>\n",
              "      <th>75890</th>\n",
              "      <td>16.50</td>\n",
              "      <td>15.911609</td>\n",
              "    </tr>\n",
              "    <tr>\n",
              "      <th>382363</th>\n",
              "      <td>13.50</td>\n",
              "      <td>13.168694</td>\n",
              "    </tr>\n",
              "    <tr>\n",
              "      <th>636697</th>\n",
              "      <td>14.40</td>\n",
              "      <td>16.411526</td>\n",
              "    </tr>\n",
              "    <tr>\n",
              "      <th>190550</th>\n",
              "      <td>10.00</td>\n",
              "      <td>11.011450</td>\n",
              "    </tr>\n",
              "    <tr>\n",
              "      <th>457857</th>\n",
              "      <td>7.50</td>\n",
              "      <td>8.202724</td>\n",
              "    </tr>\n",
              "    <tr>\n",
              "      <th>441050</th>\n",
              "      <td>17.50</td>\n",
              "      <td>14.889455</td>\n",
              "    </tr>\n",
              "    <tr>\n",
              "      <th>450696</th>\n",
              "      <td>9.50</td>\n",
              "      <td>9.147559</td>\n",
              "    </tr>\n",
              "    <tr>\n",
              "      <th>852866</th>\n",
              "      <td>7.50</td>\n",
              "      <td>7.890948</td>\n",
              "    </tr>\n",
              "    <tr>\n",
              "      <th>425690</th>\n",
              "      <td>7.00</td>\n",
              "      <td>8.377015</td>\n",
              "    </tr>\n",
              "    <tr>\n",
              "      <th>388163</th>\n",
              "      <td>17.00</td>\n",
              "      <td>17.473411</td>\n",
              "    </tr>\n",
              "    <tr>\n",
              "      <th>346179</th>\n",
              "      <td>69.40</td>\n",
              "      <td>56.670940</td>\n",
              "    </tr>\n",
              "    <tr>\n",
              "      <th>671926</th>\n",
              "      <td>28.00</td>\n",
              "      <td>17.446491</td>\n",
              "    </tr>\n",
              "    <tr>\n",
              "      <th>1028559</th>\n",
              "      <td>14.00</td>\n",
              "      <td>17.144569</td>\n",
              "    </tr>\n",
              "    <tr>\n",
              "      <th>517757</th>\n",
              "      <td>7.50</td>\n",
              "      <td>7.290510</td>\n",
              "    </tr>\n",
              "    <tr>\n",
              "      <th>599408</th>\n",
              "      <td>11.50</td>\n",
              "      <td>12.387917</td>\n",
              "    </tr>\n",
              "    <tr>\n",
              "      <th>931966</th>\n",
              "      <td>10.00</td>\n",
              "      <td>8.218044</td>\n",
              "    </tr>\n",
              "    <tr>\n",
              "      <th>408026</th>\n",
              "      <td>62.83</td>\n",
              "      <td>54.349510</td>\n",
              "    </tr>\n",
              "    <tr>\n",
              "      <th>425529</th>\n",
              "      <td>16.00</td>\n",
              "      <td>12.156656</td>\n",
              "    </tr>\n",
              "    <tr>\n",
              "      <th>998382</th>\n",
              "      <td>16.70</td>\n",
              "      <td>18.925940</td>\n",
              "    </tr>\n",
              "    <tr>\n",
              "      <th>177078</th>\n",
              "      <td>7.50</td>\n",
              "      <td>8.600174</td>\n",
              "    </tr>\n",
              "    <tr>\n",
              "      <th>666994</th>\n",
              "      <td>7.50</td>\n",
              "      <td>9.309448</td>\n",
              "    </tr>\n",
              "    <tr>\n",
              "      <th>742343</th>\n",
              "      <td>12.38</td>\n",
              "      <td>14.559953</td>\n",
              "    </tr>\n",
              "    <tr>\n",
              "      <th>805993</th>\n",
              "      <td>14.00</td>\n",
              "      <td>13.217002</td>\n",
              "    </tr>\n",
              "    <tr>\n",
              "      <th>174978</th>\n",
              "      <td>9.00</td>\n",
              "      <td>8.657371</td>\n",
              "    </tr>\n",
              "    <tr>\n",
              "      <th>970707</th>\n",
              "      <td>21.50</td>\n",
              "      <td>21.001254</td>\n",
              "    </tr>\n",
              "    <tr>\n",
              "      <th>112002</th>\n",
              "      <td>10.50</td>\n",
              "      <td>11.016136</td>\n",
              "    </tr>\n",
              "    <tr>\n",
              "      <th>474905</th>\n",
              "      <td>20.00</td>\n",
              "      <td>15.197490</td>\n",
              "    </tr>\n",
              "    <tr>\n",
              "      <th>155976</th>\n",
              "      <td>9.60</td>\n",
              "      <td>9.801883</td>\n",
              "    </tr>\n",
              "    <tr>\n",
              "      <th>227437</th>\n",
              "      <td>9.50</td>\n",
              "      <td>9.944832</td>\n",
              "    </tr>\n",
              "  </tbody>\n",
              "</table>\n",
              "<p>204548 rows × 2 columns</p>\n",
              "</div>"
            ],
            "text/plain": [
              "         actual  predicted\n",
              "161883    24.60  30.439042\n",
              "589731     9.00   8.772822\n",
              "862092    13.75  16.976197\n",
              "648125    10.50  10.787183\n",
              "442830    13.00  12.511663\n",
              "1032371   12.60  15.903372\n",
              "178043     7.50   8.887064\n",
              "40317     10.00  11.091718\n",
              "380010    14.00  14.997617\n",
              "474489    10.70  12.256733\n",
              "107875     5.00   5.962857\n",
              "328474    17.00  16.624900\n",
              "21601     15.60  15.502735\n",
              "427607    20.00  18.225104\n",
              "365213     5.50   5.784877\n",
              "870533    12.00  14.103220\n",
              "426792    24.50  23.068913\n",
              "28213     19.10  22.425334\n",
              "989008     4.00   4.777273\n",
              "411157    26.30  30.635845\n",
              "177946    17.00  17.380022\n",
              "698427    12.00  12.679484\n",
              "714440     5.90   6.986465\n",
              "89075      6.50   8.572501\n",
              "43279     10.10  11.685606\n",
              "73342     10.00  11.769991\n",
              "326709     6.50   7.824664\n",
              "669130     8.50   9.256200\n",
              "695462     9.00  10.569988\n",
              "260826    17.50  21.202718\n",
              "1029780    6.50   8.679195\n",
              "71585     17.40  18.357616\n",
              "274371    51.33  45.789348\n",
              "769664    16.80  21.126642\n",
              "1029275   10.50  13.387169\n",
              "544149     7.00   9.149906\n",
              "556804     8.30   8.445726\n",
              "197051     7.50   7.976883\n",
              "357185    28.20  34.004166\n",
              "666108    12.50  13.647469\n",
              "925558    10.00   9.745613\n",
              "715475     8.50   9.118335\n",
              "357237    46.66  40.323462\n",
              "644710     7.80   9.747355\n",
              "313798    20.30  11.543404\n",
              "581984     8.00   9.813669\n",
              "117080    14.00  12.557321\n",
              "546843    34.10  40.659787\n",
              "66900      9.37   9.091775\n",
              "808504    45.91  34.829649\n",
              "...         ...        ...\n",
              "82348      7.50   7.675446\n",
              "346000     9.60   9.753371\n",
              "167236    13.50  16.947843\n",
              "179195     5.50   6.303196\n",
              "1043550   12.00  15.776097\n",
              "841322    13.70  16.751681\n",
              "294292     7.00   6.995681\n",
              "482913     9.50  10.945838\n",
              "648427    23.70  23.499892\n",
              "729420    18.62  22.575035\n",
              "1019587   10.25   9.333794\n",
              "1008562   10.10  11.179955\n",
              "405905     8.00   6.272020\n",
              "331612    19.10  14.207926\n",
              "933274    10.50   9.787967\n",
              "685524    13.00  13.884909\n",
              "389657    11.20  11.897807\n",
              "364682     8.90   9.875827\n",
              "1018124    6.50   6.824350\n",
              "145088     5.50   5.092327\n",
              "821614    12.50  10.275195\n",
              "75890     16.50  15.911609\n",
              "382363    13.50  13.168694\n",
              "636697    14.40  16.411526\n",
              "190550    10.00  11.011450\n",
              "457857     7.50   8.202724\n",
              "441050    17.50  14.889455\n",
              "450696     9.50   9.147559\n",
              "852866     7.50   7.890948\n",
              "425690     7.00   8.377015\n",
              "388163    17.00  17.473411\n",
              "346179    69.40  56.670940\n",
              "671926    28.00  17.446491\n",
              "1028559   14.00  17.144569\n",
              "517757     7.50   7.290510\n",
              "599408    11.50  12.387917\n",
              "931966    10.00   8.218044\n",
              "408026    62.83  54.349510\n",
              "425529    16.00  12.156656\n",
              "998382    16.70  18.925940\n",
              "177078     7.50   8.600174\n",
              "666994     7.50   9.309448\n",
              "742343    12.38  14.559953\n",
              "805993    14.00  13.217002\n",
              "174978     9.00   8.657371\n",
              "970707    21.50  21.001254\n",
              "112002    10.50  11.016136\n",
              "474905    20.00  15.197490\n",
              "155976     9.60   9.801883\n",
              "227437     9.50   9.944832\n",
              "\n",
              "[204548 rows x 2 columns]"
            ]
          },
          "metadata": {
            "tags": []
          },
          "execution_count": 82
        }
      ]
    },
    {
      "metadata": {
        "id": "4ZO9BWUF-PXY",
        "colab_type": "code",
        "colab": {}
      },
      "cell_type": "code",
      "source": [
        "import statsmodels.formula.api as sm"
      ],
      "execution_count": 0,
      "outputs": []
    },
    {
      "metadata": {
        "id": "zXM7pa6f-Yfx",
        "colab_type": "code",
        "outputId": "a2adf265-8604-409c-affb-d2a43e2952c4",
        "colab": {
          "base_uri": "https://localhost:8080/",
          "height": 1237
        }
      },
      "cell_type": "code",
      "source": [
        "model1 = sm.ols(formula='fare_amount ~ tip_amount+ passenger_count+ travel_seconds+ travel_kms+vendors+ payment_type_CRD+payment_type_CSH+ payment_type_DIS+ payment_type_NOC+rate_code_0+ rate_code_1+ rate_code_2+ rate_code_3+rate_code_4+ rate_code_5+ rate_code_6+ rate_code_7+hour_0+ hour_1+ hour_2+ hour_3+ hour_4+hour_5+ hour_6+ hour_7+ hour_8+ hour_9+ hour_10+ hour_11+hour_12+ hour_13+ hour_14+ hour_15+ hour_16+ hour_17+hour_18+ hour_19+ hour_20+ hour_21+ hour_22+ hour_23+is_weekend', data=en_data)\n",
        "fitted1 = model1.fit()\n",
        "fitted1.summary()"
      ],
      "execution_count": 0,
      "outputs": [
        {
          "output_type": "execute_result",
          "data": {
            "text/html": [
              "<table class=\"simpletable\">\n",
              "<caption>OLS Regression Results</caption>\n",
              "<tr>\n",
              "  <th>Dep. Variable:</th>       <td>fare_amount</td>   <th>  R-squared:         </th>  <td>   0.847</td>  \n",
              "</tr>\n",
              "<tr>\n",
              "  <th>Model:</th>                   <td>OLS</td>       <th>  Adj. R-squared:    </th>  <td>   0.847</td>  \n",
              "</tr>\n",
              "<tr>\n",
              "  <th>Method:</th>             <td>Least Squares</td>  <th>  F-statistic:       </th>  <td>1.453e+05</td> \n",
              "</tr>\n",
              "<tr>\n",
              "  <th>Date:</th>             <td>Mon, 28 Jan 2019</td> <th>  Prob (F-statistic):</th>   <td>  0.00</td>   \n",
              "</tr>\n",
              "<tr>\n",
              "  <th>Time:</th>                 <td>17:53:12</td>     <th>  Log-Likelihood:    </th> <td>-3.0698e+06</td>\n",
              "</tr>\n",
              "<tr>\n",
              "  <th>No. Observations:</th>      <td>1022737</td>     <th>  AIC:               </th>  <td>6.140e+06</td> \n",
              "</tr>\n",
              "<tr>\n",
              "  <th>Df Residuals:</th>          <td>1022697</td>     <th>  BIC:               </th>  <td>6.140e+06</td> \n",
              "</tr>\n",
              "<tr>\n",
              "  <th>Df Model:</th>              <td>    39</td>      <th>                     </th>      <td> </td>     \n",
              "</tr>\n",
              "<tr>\n",
              "  <th>Covariance Type:</th>      <td>nonrobust</td>    <th>                     </th>      <td> </td>     \n",
              "</tr>\n",
              "</table>\n",
              "<table class=\"simpletable\">\n",
              "<tr>\n",
              "          <td></td>            <th>coef</th>     <th>std err</th>      <th>t</th>      <th>P>|t|</th>  <th>[0.025</th>    <th>0.975]</th>  \n",
              "</tr>\n",
              "<tr>\n",
              "  <th>Intercept</th>        <td>   14.9064</td> <td>    0.341</td> <td>   43.758</td> <td> 0.000</td> <td>   14.239</td> <td>   15.574</td>\n",
              "</tr>\n",
              "<tr>\n",
              "  <th>is_weekend[T.1]</th>  <td>   -0.2472</td> <td>    0.010</td> <td>  -23.799</td> <td> 0.000</td> <td>   -0.268</td> <td>   -0.227</td>\n",
              "</tr>\n",
              "<tr>\n",
              "  <th>tip_amount</th>       <td>    1.7219</td> <td>    0.003</td> <td>  595.303</td> <td> 0.000</td> <td>    1.716</td> <td>    1.728</td>\n",
              "</tr>\n",
              "<tr>\n",
              "  <th>passenger_count</th>  <td>    0.0045</td> <td>    0.004</td> <td>    1.233</td> <td> 0.218</td> <td>   -0.003</td> <td>    0.012</td>\n",
              "</tr>\n",
              "<tr>\n",
              "  <th>travel_seconds</th>   <td>    0.0119</td> <td> 9.41e-06</td> <td> 1262.763</td> <td> 0.000</td> <td>    0.012</td> <td>    0.012</td>\n",
              "</tr>\n",
              "<tr>\n",
              "  <th>travel_kms</th>       <td>    0.0003</td> <td> 9.59e-06</td> <td>   30.703</td> <td> 0.000</td> <td>    0.000</td> <td>    0.000</td>\n",
              "</tr>\n",
              "<tr>\n",
              "  <th>vendors</th>          <td>    0.1739</td> <td>    0.010</td> <td>   17.158</td> <td> 0.000</td> <td>    0.154</td> <td>    0.194</td>\n",
              "</tr>\n",
              "<tr>\n",
              "  <th>payment_type_CRD</th> <td>    3.4071</td> <td>    0.095</td> <td>   35.779</td> <td> 0.000</td> <td>    3.220</td> <td>    3.594</td>\n",
              "</tr>\n",
              "<tr>\n",
              "  <th>payment_type_CSH</th> <td>    4.3407</td> <td>    0.095</td> <td>   45.659</td> <td> 0.000</td> <td>    4.154</td> <td>    4.527</td>\n",
              "</tr>\n",
              "<tr>\n",
              "  <th>payment_type_DIS</th> <td>    3.9175</td> <td>    0.166</td> <td>   23.550</td> <td> 0.000</td> <td>    3.591</td> <td>    4.244</td>\n",
              "</tr>\n",
              "<tr>\n",
              "  <th>payment_type_NOC</th> <td>    3.2412</td> <td>    0.122</td> <td>   26.579</td> <td> 0.000</td> <td>    3.002</td> <td>    3.480</td>\n",
              "</tr>\n",
              "<tr>\n",
              "  <th>rate_code_0</th>      <td>  -14.6512</td> <td>    0.828</td> <td>  -17.689</td> <td> 0.000</td> <td>  -16.275</td> <td>  -13.028</td>\n",
              "</tr>\n",
              "<tr>\n",
              "  <th>rate_code_1</th>      <td>  -16.1438</td> <td>    0.438</td> <td>  -36.881</td> <td> 0.000</td> <td>  -17.002</td> <td>  -15.286</td>\n",
              "</tr>\n",
              "<tr>\n",
              "  <th>rate_code_2</th>      <td>    3.7780</td> <td>    0.439</td> <td>    8.608</td> <td> 0.000</td> <td>    2.918</td> <td>    4.638</td>\n",
              "</tr>\n",
              "<tr>\n",
              "  <th>rate_code_3</th>      <td>   27.3620</td> <td>    0.451</td> <td>   60.715</td> <td> 0.000</td> <td>   26.479</td> <td>   28.245</td>\n",
              "</tr>\n",
              "<tr>\n",
              "  <th>rate_code_4</th>      <td>   17.6044</td> <td>    0.496</td> <td>   35.482</td> <td> 0.000</td> <td>   16.632</td> <td>   18.577</td>\n",
              "</tr>\n",
              "<tr>\n",
              "  <th>rate_code_5</th>      <td>   34.8659</td> <td>    0.448</td> <td>   77.875</td> <td> 0.000</td> <td>   33.988</td> <td>   35.743</td>\n",
              "</tr>\n",
              "<tr>\n",
              "  <th>rate_code_6</th>      <td>  -19.7518</td> <td>    1.362</td> <td>  -14.502</td> <td> 0.000</td> <td>  -22.421</td> <td>  -17.082</td>\n",
              "</tr>\n",
              "<tr>\n",
              "  <th>rate_code_7</th>      <td>  -18.1570</td> <td>    3.056</td> <td>   -5.941</td> <td> 0.000</td> <td>  -24.147</td> <td>  -12.167</td>\n",
              "</tr>\n",
              "<tr>\n",
              "  <th>hour_0</th>           <td>    1.5546</td> <td>    0.028</td> <td>   55.939</td> <td> 0.000</td> <td>    1.500</td> <td>    1.609</td>\n",
              "</tr>\n",
              "<tr>\n",
              "  <th>hour_1</th>           <td>    1.7157</td> <td>    0.031</td> <td>   55.058</td> <td> 0.000</td> <td>    1.655</td> <td>    1.777</td>\n",
              "</tr>\n",
              "<tr>\n",
              "  <th>hour_2</th>           <td>    1.9851</td> <td>    0.035</td> <td>   56.575</td> <td> 0.000</td> <td>    1.916</td> <td>    2.054</td>\n",
              "</tr>\n",
              "<tr>\n",
              "  <th>hour_3</th>           <td>    2.3691</td> <td>    0.040</td> <td>   58.757</td> <td> 0.000</td> <td>    2.290</td> <td>    2.448</td>\n",
              "</tr>\n",
              "<tr>\n",
              "  <th>hour_4</th>           <td>    3.2948</td> <td>    0.045</td> <td>   72.608</td> <td> 0.000</td> <td>    3.206</td> <td>    3.384</td>\n",
              "</tr>\n",
              "<tr>\n",
              "  <th>hour_5</th>           <td>    3.8753</td> <td>    0.048</td> <td>   81.083</td> <td> 0.000</td> <td>    3.782</td> <td>    3.969</td>\n",
              "</tr>\n",
              "<tr>\n",
              "  <th>hour_6</th>           <td>    1.6594</td> <td>    0.035</td> <td>   47.687</td> <td> 0.000</td> <td>    1.591</td> <td>    1.728</td>\n",
              "</tr>\n",
              "<tr>\n",
              "  <th>hour_7</th>           <td>    0.2785</td> <td>    0.029</td> <td>    9.758</td> <td> 0.000</td> <td>    0.223</td> <td>    0.334</td>\n",
              "</tr>\n",
              "<tr>\n",
              "  <th>hour_8</th>           <td>   -0.6108</td> <td>    0.027</td> <td>  -22.946</td> <td> 0.000</td> <td>   -0.663</td> <td>   -0.559</td>\n",
              "</tr>\n",
              "<tr>\n",
              "  <th>hour_9</th>           <td>   -0.6376</td> <td>    0.026</td> <td>  -24.169</td> <td> 0.000</td> <td>   -0.689</td> <td>   -0.586</td>\n",
              "</tr>\n",
              "<tr>\n",
              "  <th>hour_10</th>          <td>   -0.5675</td> <td>    0.027</td> <td>  -21.329</td> <td> 0.000</td> <td>   -0.620</td> <td>   -0.515</td>\n",
              "</tr>\n",
              "<tr>\n",
              "  <th>hour_11</th>          <td>   -0.5747</td> <td>    0.026</td> <td>  -21.906</td> <td> 0.000</td> <td>   -0.626</td> <td>   -0.523</td>\n",
              "</tr>\n",
              "<tr>\n",
              "  <th>hour_12</th>          <td>   -0.6605</td> <td>    0.026</td> <td>  -25.558</td> <td> 0.000</td> <td>   -0.711</td> <td>   -0.610</td>\n",
              "</tr>\n",
              "<tr>\n",
              "  <th>hour_13</th>          <td>   -0.5936</td> <td>    0.026</td> <td>  -22.876</td> <td> 0.000</td> <td>   -0.644</td> <td>   -0.543</td>\n",
              "</tr>\n",
              "<tr>\n",
              "  <th>hour_14</th>          <td>   -0.7800</td> <td>    0.026</td> <td>  -30.415</td> <td> 0.000</td> <td>   -0.830</td> <td>   -0.730</td>\n",
              "</tr>\n",
              "<tr>\n",
              "  <th>hour_15</th>          <td>   -0.9429</td> <td>    0.026</td> <td>  -36.059</td> <td> 0.000</td> <td>   -0.994</td> <td>   -0.892</td>\n",
              "</tr>\n",
              "<tr>\n",
              "  <th>hour_16</th>          <td>   -0.1351</td> <td>    0.028</td> <td>   -4.895</td> <td> 0.000</td> <td>   -0.189</td> <td>   -0.081</td>\n",
              "</tr>\n",
              "<tr>\n",
              "  <th>hour_17</th>          <td>   -0.1917</td> <td>    0.026</td> <td>   -7.436</td> <td> 0.000</td> <td>   -0.242</td> <td>   -0.141</td>\n",
              "</tr>\n",
              "<tr>\n",
              "  <th>hour_18</th>          <td>   -0.0913</td> <td>    0.024</td> <td>   -3.783</td> <td> 0.000</td> <td>   -0.139</td> <td>   -0.044</td>\n",
              "</tr>\n",
              "<tr>\n",
              "  <th>hour_19</th>          <td>    0.2650</td> <td>    0.024</td> <td>   11.111</td> <td> 0.000</td> <td>    0.218</td> <td>    0.312</td>\n",
              "</tr>\n",
              "<tr>\n",
              "  <th>hour_20</th>          <td>    0.5146</td> <td>    0.024</td> <td>   21.255</td> <td> 0.000</td> <td>    0.467</td> <td>    0.562</td>\n",
              "</tr>\n",
              "<tr>\n",
              "  <th>hour_21</th>          <td>    0.8566</td> <td>    0.024</td> <td>   35.221</td> <td> 0.000</td> <td>    0.809</td> <td>    0.904</td>\n",
              "</tr>\n",
              "<tr>\n",
              "  <th>hour_22</th>          <td>    1.0384</td> <td>    0.025</td> <td>   42.181</td> <td> 0.000</td> <td>    0.990</td> <td>    1.087</td>\n",
              "</tr>\n",
              "<tr>\n",
              "  <th>hour_23</th>          <td>    1.2852</td> <td>    0.026</td> <td>   50.381</td> <td> 0.000</td> <td>    1.235</td> <td>    1.335</td>\n",
              "</tr>\n",
              "</table>\n",
              "<table class=\"simpletable\">\n",
              "<tr>\n",
              "  <th>Omnibus:</th>       <td>621441.025</td> <th>  Durbin-Watson:     </th>    <td>   1.995</td>   \n",
              "</tr>\n",
              "<tr>\n",
              "  <th>Prob(Omnibus):</th>   <td> 0.000</td>   <th>  Jarque-Bera (JB):  </th> <td>6594070031.115</td>\n",
              "</tr>\n",
              "<tr>\n",
              "  <th>Skew:</th>            <td> 1.043</td>   <th>  Prob(JB):          </th>    <td>    0.00</td>   \n",
              "</tr>\n",
              "<tr>\n",
              "  <th>Kurtosis:</th>        <td>396.364</td>  <th>  Cond. No.          </th>    <td>1.26e+16</td>   \n",
              "</tr>\n",
              "</table>"
            ],
            "text/plain": [
              "<class 'statsmodels.iolib.summary.Summary'>\n",
              "\"\"\"\n",
              "                            OLS Regression Results                            \n",
              "==============================================================================\n",
              "Dep. Variable:            fare_amount   R-squared:                       0.847\n",
              "Model:                            OLS   Adj. R-squared:                  0.847\n",
              "Method:                 Least Squares   F-statistic:                 1.453e+05\n",
              "Date:                Mon, 28 Jan 2019   Prob (F-statistic):               0.00\n",
              "Time:                        17:53:12   Log-Likelihood:            -3.0698e+06\n",
              "No. Observations:             1022737   AIC:                         6.140e+06\n",
              "Df Residuals:                 1022697   BIC:                         6.140e+06\n",
              "Df Model:                          39                                         \n",
              "Covariance Type:            nonrobust                                         \n",
              "====================================================================================\n",
              "                       coef    std err          t      P>|t|      [0.025      0.975]\n",
              "------------------------------------------------------------------------------------\n",
              "Intercept           14.9064      0.341     43.758      0.000      14.239      15.574\n",
              "is_weekend[T.1]     -0.2472      0.010    -23.799      0.000      -0.268      -0.227\n",
              "tip_amount           1.7219      0.003    595.303      0.000       1.716       1.728\n",
              "passenger_count      0.0045      0.004      1.233      0.218      -0.003       0.012\n",
              "travel_seconds       0.0119   9.41e-06   1262.763      0.000       0.012       0.012\n",
              "travel_kms           0.0003   9.59e-06     30.703      0.000       0.000       0.000\n",
              "vendors              0.1739      0.010     17.158      0.000       0.154       0.194\n",
              "payment_type_CRD     3.4071      0.095     35.779      0.000       3.220       3.594\n",
              "payment_type_CSH     4.3407      0.095     45.659      0.000       4.154       4.527\n",
              "payment_type_DIS     3.9175      0.166     23.550      0.000       3.591       4.244\n",
              "payment_type_NOC     3.2412      0.122     26.579      0.000       3.002       3.480\n",
              "rate_code_0        -14.6512      0.828    -17.689      0.000     -16.275     -13.028\n",
              "rate_code_1        -16.1438      0.438    -36.881      0.000     -17.002     -15.286\n",
              "rate_code_2          3.7780      0.439      8.608      0.000       2.918       4.638\n",
              "rate_code_3         27.3620      0.451     60.715      0.000      26.479      28.245\n",
              "rate_code_4         17.6044      0.496     35.482      0.000      16.632      18.577\n",
              "rate_code_5         34.8659      0.448     77.875      0.000      33.988      35.743\n",
              "rate_code_6        -19.7518      1.362    -14.502      0.000     -22.421     -17.082\n",
              "rate_code_7        -18.1570      3.056     -5.941      0.000     -24.147     -12.167\n",
              "hour_0               1.5546      0.028     55.939      0.000       1.500       1.609\n",
              "hour_1               1.7157      0.031     55.058      0.000       1.655       1.777\n",
              "hour_2               1.9851      0.035     56.575      0.000       1.916       2.054\n",
              "hour_3               2.3691      0.040     58.757      0.000       2.290       2.448\n",
              "hour_4               3.2948      0.045     72.608      0.000       3.206       3.384\n",
              "hour_5               3.8753      0.048     81.083      0.000       3.782       3.969\n",
              "hour_6               1.6594      0.035     47.687      0.000       1.591       1.728\n",
              "hour_7               0.2785      0.029      9.758      0.000       0.223       0.334\n",
              "hour_8              -0.6108      0.027    -22.946      0.000      -0.663      -0.559\n",
              "hour_9              -0.6376      0.026    -24.169      0.000      -0.689      -0.586\n",
              "hour_10             -0.5675      0.027    -21.329      0.000      -0.620      -0.515\n",
              "hour_11             -0.5747      0.026    -21.906      0.000      -0.626      -0.523\n",
              "hour_12             -0.6605      0.026    -25.558      0.000      -0.711      -0.610\n",
              "hour_13             -0.5936      0.026    -22.876      0.000      -0.644      -0.543\n",
              "hour_14             -0.7800      0.026    -30.415      0.000      -0.830      -0.730\n",
              "hour_15             -0.9429      0.026    -36.059      0.000      -0.994      -0.892\n",
              "hour_16             -0.1351      0.028     -4.895      0.000      -0.189      -0.081\n",
              "hour_17             -0.1917      0.026     -7.436      0.000      -0.242      -0.141\n",
              "hour_18             -0.0913      0.024     -3.783      0.000      -0.139      -0.044\n",
              "hour_19              0.2650      0.024     11.111      0.000       0.218       0.312\n",
              "hour_20              0.5146      0.024     21.255      0.000       0.467       0.562\n",
              "hour_21              0.8566      0.024     35.221      0.000       0.809       0.904\n",
              "hour_22              1.0384      0.025     42.181      0.000       0.990       1.087\n",
              "hour_23              1.2852      0.026     50.381      0.000       1.235       1.335\n",
              "==============================================================================\n",
              "Omnibus:                   621441.025   Durbin-Watson:                   1.995\n",
              "Prob(Omnibus):                  0.000   Jarque-Bera (JB):       6594070031.115\n",
              "Skew:                           1.043   Prob(JB):                         0.00\n",
              "Kurtosis:                     396.364   Cond. No.                     1.26e+16\n",
              "==============================================================================\n",
              "\n",
              "Warnings:\n",
              "[1] Standard Errors assume that the covariance matrix of the errors is correctly specified.\n",
              "[2] The smallest eigenvalue is 6.48e-21. This might indicate that there are\n",
              "strong multicollinearity problems or that the design matrix is singular.\n",
              "\"\"\""
            ]
          },
          "metadata": {
            "tags": []
          },
          "execution_count": 84
        }
      ]
    },
    {
      "metadata": {
        "id": "-0H6hODR-chK",
        "colab_type": "code",
        "outputId": "b2558090-8cd5-4fcf-a5e6-e880a08f1893",
        "colab": {
          "base_uri": "https://localhost:8080/",
          "height": 765
        }
      },
      "cell_type": "code",
      "source": [
        "fitted1.params"
      ],
      "execution_count": 0,
      "outputs": [
        {
          "output_type": "execute_result",
          "data": {
            "text/plain": [
              "Intercept           14.906429\n",
              "is_weekend[T.1]     -0.247151\n",
              "tip_amount           1.721869\n",
              "passenger_count      0.004502\n",
              "travel_seconds       0.011879\n",
              "travel_kms           0.000294\n",
              "vendors              0.173938\n",
              "payment_type_CRD     3.407051\n",
              "payment_type_CSH     4.340676\n",
              "payment_type_DIS     3.917499\n",
              "payment_type_NOC     3.241203\n",
              "rate_code_0        -14.651207\n",
              "rate_code_1        -16.143845\n",
              "rate_code_2          3.777963\n",
              "rate_code_3         27.361996\n",
              "rate_code_4         17.604424\n",
              "rate_code_5         34.865875\n",
              "rate_code_6        -19.751808\n",
              "rate_code_7        -18.156970\n",
              "hour_0               1.554615\n",
              "hour_1               1.715662\n",
              "hour_2               1.985119\n",
              "hour_3               2.369083\n",
              "hour_4               3.294756\n",
              "hour_5               3.875275\n",
              "hour_6               1.659390\n",
              "hour_7               0.278456\n",
              "hour_8              -0.610778\n",
              "hour_9              -0.637590\n",
              "hour_10             -0.567454\n",
              "hour_11             -0.574707\n",
              "hour_12             -0.660471\n",
              "hour_13             -0.593586\n",
              "hour_14             -0.780043\n",
              "hour_15             -0.942915\n",
              "hour_16             -0.135123\n",
              "hour_17             -0.191727\n",
              "hour_18             -0.091318\n",
              "hour_19              0.265025\n",
              "hour_20              0.514578\n",
              "hour_21              0.856597\n",
              "hour_22              1.038401\n",
              "hour_23              1.285181\n",
              "dtype: float64"
            ]
          },
          "metadata": {
            "tags": []
          },
          "execution_count": 85
        }
      ]
    },
    {
      "metadata": {
        "id": "mWi4QGQT-lhd",
        "colab_type": "code",
        "colab": {}
      },
      "cell_type": "code",
      "source": [
        "from sklearn import metrics"
      ],
      "execution_count": 0,
      "outputs": []
    },
    {
      "metadata": {
        "id": "rCj-PDcB-rSZ",
        "colab_type": "code",
        "outputId": "9026d15b-a013-4f72-e62b-b181a8697ecf",
        "colab": {
          "base_uri": "https://localhost:8080/",
          "height": 68
        }
      },
      "cell_type": "code",
      "source": [
        "print('Mean Absolute Error:', metrics.mean_absolute_error(y_test, y_pred))  \n",
        "print('Mean Squared Error:', metrics.mean_squared_error(y_test, y_pred))  \n",
        "print('Root Mean Squared Error:', np.sqrt(metrics.mean_squared_error(y_test, y_pred)))"
      ],
      "execution_count": 0,
      "outputs": [
        {
          "output_type": "stream",
          "text": [
            "Mean Absolute Error: 2.413559138401165\n",
            "Mean Squared Error: 22.31114113669594\n",
            "Root Mean Squared Error: 4.723467067387677\n"
          ],
          "name": "stdout"
        }
      ]
    },
    {
      "metadata": {
        "id": "IOXecn5w-zka",
        "colab_type": "code",
        "outputId": "34fa3d74-40f2-4fcd-997c-08d964b17135",
        "colab": {
          "base_uri": "https://localhost:8080/",
          "height": 34
        }
      },
      "cell_type": "code",
      "source": [
        "print('Coefficient of Determination:',mymodel.score(X_test, y_test))"
      ],
      "execution_count": 0,
      "outputs": [
        {
          "output_type": "stream",
          "text": [
            "Coefficient of Determination: 0.8545537453821099\n"
          ],
          "name": "stdout"
        }
      ]
    },
    {
      "metadata": {
        "id": "6woYHKQm-1XB",
        "colab_type": "code",
        "colab": {}
      },
      "cell_type": "code",
      "source": [
        "import matplotlib.pyplot as plt"
      ],
      "execution_count": 0,
      "outputs": []
    },
    {
      "metadata": {
        "id": "Q99qSct8--gC",
        "colab_type": "code",
        "outputId": "30b54945-58a9-4a28-c2a8-50dfdadba184",
        "colab": {
          "base_uri": "https://localhost:8080/",
          "height": 390
        }
      },
      "cell_type": "code",
      "source": [
        "plt.style.use('fivethirtyeight') \n",
        "plt.scatter(mymodel.predict(X_train), mymodel.predict(X_train) - y_train, \n",
        "            color = \"green\", s = 10, label = 'Train data') \n",
        "plt.scatter(mymodel.predict(X_test), mymodel.predict(X_test) - y_test, \n",
        "            color = \"blue\", s = 10, label = 'Test data') \n",
        "plt.hlines(y = 0, xmin = 0, xmax = 50, linewidth = 2) \n",
        "plt.legend(loc = 'upper right') \n",
        "plt.title(\"Residual errors\") \n",
        "plt.show()"
      ],
      "execution_count": 0,
      "outputs": [
        {
          "output_type": "display_data",
          "data": {
            "image/png": "[encoded data removed]",
            "text/plain": [
              "<Figure size 576x396 with 1 Axes>"
            ]
          },
          "metadata": {
            "tags": []
          }
        }
      ]
    },
    {
      "metadata": {
        "id": "WU9pO5Oz_NQ9",
        "colab_type": "code",
        "colab": {}
      },
      "cell_type": "code",
      "source": [
        "from sklearn.model_selection import cross_val_predict"
      ],
      "execution_count": 0,
      "outputs": []
    },
    {
      "metadata": {
        "id": "wGlU-k6q_P3i",
        "colab_type": "code",
        "outputId": "c35a5d0a-a0b9-4c76-8a2f-4c2443526f7e",
        "colab": {
          "base_uri": "https://localhost:8080/",
          "height": 405
        }
      },
      "cell_type": "code",
      "source": [
        "predicted = cross_val_predict(mymodel, X, y, cv=10)\n",
        "plt.figure(figsize=(200,100))\n",
        "fig, ax = plt.subplots()\n",
        "ax.scatter(y, predicted)\n",
        "ax.plot([y.min(), y.max()], [y.min(), y.max()], 'k--', lw=4)\n",
        "ax.set_xlabel('Measured')\n",
        "ax.set_ylabel('Predicted')\n",
        "plt.show()"
      ],
      "execution_count": 0,
      "outputs": [
        {
          "output_type": "display_data",
          "data": {
            "text/plain": [
              "<Figure size 14400x7200 with 0 Axes>"
            ]
          },
          "metadata": {
            "tags": []
          }
        },
        {
          "output_type": "display_data",
          "data": {
            "image/png": "[encoded data removed]",
            "text/plain": [
              "<Figure size 576x396 with 1 Axes>"
            ]
          },
          "metadata": {
            "tags": []
          }
        }
      ]
    },
    {
      "metadata": {
        "id": "1xnod7Edea-o",
        "colab_type": "code",
        "colab": {}
      },
      "cell_type": "code",
      "source": [
        "from sklearn.linear_model import Ridge"
      ],
      "execution_count": 0,
      "outputs": []
    },
    {
      "metadata": {
        "id": "Y7rIGIBRldT1",
        "colab_type": "code",
        "outputId": "fbabf0f6-8e49-4a51-fa8a-3b2a34f6fb5e",
        "colab": {
          "base_uri": "https://localhost:8080/",
          "height": 153
        }
      },
      "cell_type": "code",
      "source": [
        "clf = Ridge(alpha=1.0)\n",
        "clf.fit(X_train, y_train)\n",
        "clf.get_params()"
      ],
      "execution_count": 0,
      "outputs": [
        {
          "output_type": "execute_result",
          "data": {
            "text/plain": [
              "{'alpha': 1.0,\n",
              " 'copy_X': True,\n",
              " 'fit_intercept': True,\n",
              " 'max_iter': None,\n",
              " 'normalize': False,\n",
              " 'random_state': None,\n",
              " 'solver': 'auto',\n",
              " 'tol': 0.001}"
            ]
          },
          "metadata": {
            "tags": []
          },
          "execution_count": 94
        }
      ]
    },
    {
      "metadata": {
        "id": "9YYLkoboliaz",
        "colab_type": "code",
        "colab": {}
      },
      "cell_type": "code",
      "source": [
        "y_pred=clf.predict(X_test)"
      ],
      "execution_count": 0,
      "outputs": []
    },
    {
      "metadata": {
        "id": "YvcdpnPxlq4S",
        "colab_type": "code",
        "outputId": "a7f1dac7-997f-4a00-dd36-42badb4bef11",
        "colab": {
          "base_uri": "https://localhost:8080/",
          "height": 34
        }
      },
      "cell_type": "code",
      "source": [
        "clf.score(X_test, y_test)"
      ],
      "execution_count": 0,
      "outputs": [
        {
          "output_type": "execute_result",
          "data": {
            "text/plain": [
              "0.8545529934318341"
            ]
          },
          "metadata": {
            "tags": []
          },
          "execution_count": 96
        }
      ]
    },
    {
      "metadata": {
        "id": "Rw9rVjk6luxD",
        "colab_type": "code",
        "outputId": "c9a45194-71a1-41b7-bc2b-e3b792debe69",
        "colab": {
          "base_uri": "https://localhost:8080/",
          "height": 731
        }
      },
      "cell_type": "code",
      "source": [
        "list(zip(X.columns,clf.coef_))"
      ],
      "execution_count": 0,
      "outputs": [
        {
          "output_type": "execute_result",
          "data": {
            "text/plain": [
              "[('tip_amount', 1.7130584287389414),\n",
              " ('passenger_count', 0.007738177441613543),\n",
              " ('travel_seconds', 0.011824014792850716),\n",
              " ('travel_kms', 0.00029157528178036936),\n",
              " ('vendors', 0.17816965569907373),\n",
              " ('is_weekend', -0.25377255792811043),\n",
              " ('payment_type_CRD', -0.26960015183350083),\n",
              " ('payment_type_CSH', 0.6397944552705322),\n",
              " ('payment_type_DIS', 0.18892152963561745),\n",
              " ('payment_type_NOC', -0.5591158318582012),\n",
              " ('rate_code_0', -17.574652733314498),\n",
              " ('rate_code_1', -19.234002322515984),\n",
              " ('rate_code_2', 0.8592908624036484),\n",
              " ('rate_code_3', 24.302845375387072),\n",
              " ('rate_code_4', 14.524725831455164),\n",
              " ('rate_code_5', 31.487831357008663),\n",
              " ('rate_code_6', -20.192789188405545),\n",
              " ('rate_code_7', -14.173249183255733),\n",
              " ('hour_0', 0.939444175838723),\n",
              " ('hour_1', 1.0797327232160845),\n",
              " ('hour_2', 1.3419819865061835),\n",
              " ('hour_3', 1.7544357299538822),\n",
              " ('hour_4', 2.6547463775800275),\n",
              " ('hour_5', 3.295646519368134),\n",
              " ('hour_6', 1.031091189354434),\n",
              " ('hour_7', -0.3652602402523181),\n",
              " ('hour_8', -1.214392582271571),\n",
              " ('hour_9', -1.2341955723482219),\n",
              " ('hour_10', -1.1937689604089379),\n",
              " ('hour_11', -1.1997508593915822),\n",
              " ('hour_12', -1.2729926717860438),\n",
              " ('hour_13', -1.2202790896490325),\n",
              " ('hour_14', -1.3754988826681085),\n",
              " ('hour_15', -1.5605590084722785),\n",
              " ('hour_16', -0.7552937145908274),\n",
              " ('hour_17', -0.8115918193698534),\n",
              " ('hour_18', -0.7166460462951221),\n",
              " ('hour_19', -0.3487042905998609),\n",
              " ('hour_20', -0.11090906864145854),\n",
              " ('hour_21', 0.22934318942375612),\n",
              " ('hour_22', 0.3979671675003482),\n",
              " ('hour_23', 0.6554537463889882)]"
            ]
          },
          "metadata": {
            "tags": []
          },
          "execution_count": 97
        }
      ]
    },
    {
      "metadata": {
        "id": "IMi4cEGmlvU3",
        "colab_type": "code",
        "outputId": "91079934-e372-4dea-c1c1-768af5303a98",
        "colab": {
          "base_uri": "https://localhost:8080/",
          "height": 433
        }
      },
      "cell_type": "code",
      "source": [
        "ridge_hour_coef = pd.Series(clf.coef_[-24:],X_train.columns[-24:])\n",
        "ridge_hour_coef.plot(kind='bar', title='Impact of hour (of the day) on Fare Amount')"
      ],
      "execution_count": 0,
      "outputs": [
        {
          "output_type": "execute_result",
          "data": {
            "text/plain": [
              "<matplotlib.axes._subplots.AxesSubplot at 0x7fef1010b5f8>"
            ]
          },
          "metadata": {
            "tags": []
          },
          "execution_count": 98
        },
        {
          "output_type": "display_data",
          "data": {
            "image/png": "[encoded data removed]",
            "text/plain": [
              "<Figure size 576x396 with 1 Axes>"
            ]
          },
          "metadata": {
            "tags": []
          }
        }
      ]
    }
  ]
}